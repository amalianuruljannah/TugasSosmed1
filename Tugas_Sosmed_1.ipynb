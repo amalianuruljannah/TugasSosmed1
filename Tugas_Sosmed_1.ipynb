{
  "cells": [
    {
      "cell_type": "markdown",
      "metadata": {
        "id": "view-in-github",
        "colab_type": "text"
      },
      "source": [
        "<a href=\"https://colab.research.google.com/github/amalianuruljannah/TugasSosmed1/blob/main/Tugas_Sosmed_1.ipynb\" target=\"_parent\"><img src=\"https://colab.research.google.com/assets/colab-badge.svg\" alt=\"Open In Colab\"/></a>"
      ]
    },
    {
      "cell_type": "code",
      "source": [
        "import requests\n",
        "from bs4 import BeautifulSoup\n",
        "import pandas as pd\n",
        "import json\n",
        "from google.colab import files\n",
        "from urllib.parse import urljoin\n",
        "\n",
        "# Target URL CNN Indonesia\n",
        "URL = \"https://www.cnnindonesia.com/nasional\"\n",
        "headers = {\"User-Agent\": \"Mozilla/5.0\"}\n",
        "\n",
        "response = requests.get(URL, headers=headers)\n",
        "soup = BeautifulSoup(response.text, \"html.parser\")\n",
        "\n",
        "data = []\n",
        "articles = soup.find_all(\"article\")\n",
        "\n",
        "for art in articles:\n",
        "    title_tag = art.find(\"h2\")\n",
        "    link_tag = art.find(\"a\")\n",
        "    summary_tag = art.find(\"p\")\n",
        "    time_tag = art.find(\"span\", class_=\"date\")\n",
        "    category_tag = art.find(\"span\", class_=\"kanal\")\n",
        "\n",
        "    title = title_tag.get_text(strip=True) if title_tag else None\n",
        "    link = link_tag[\"href\"] if link_tag else None\n",
        "    summary = summary_tag.get_text(strip=True) if summary_tag else None\n",
        "    publish_time = time_tag.get_text(strip=True) if time_tag else None\n",
        "    category = category_tag.get_text(strip=True) if category_tag else \"Nasional\"\n",
        "\n",
        "    # --- Normalisasi link ---\n",
        "    if link and not link.startswith(\"http\"):\n",
        "        link = urljoin(URL, link)  # gabungkan dengan base URL\n",
        "\n",
        "    # --- Extra step: buka halaman berita untuk ambil isi & penulis ---\n",
        "    author = None\n",
        "    content = None\n",
        "    tags = None\n",
        "    if link and link != \"#\":\n",
        "        try:\n",
        "            detail = requests.get(link, headers=headers, timeout=10)\n",
        "            soup_detail = BeautifulSoup(detail.text, \"html.parser\")\n",
        "\n",
        "            # Cari penulis\n",
        "            author_tag = soup_detail.find(\"div\", class_=\"author\")\n",
        "            if author_tag:\n",
        "                author = author_tag.get_text(strip=True)\n",
        "\n",
        "            # Cari isi berita\n",
        "            content_tags = soup_detail.find_all(\"p\")\n",
        "            content = \" \".join([c.get_text(strip=True) for c in content_tags]) if content_tags else None\n",
        "\n",
        "            # Cari tags (kalau ada)\n",
        "            tag_section = soup_detail.find(\"div\", class_=\"tag-list\")\n",
        "            if tag_section:\n",
        "                tags = [t.get_text(strip=True) for t in tag_section.find_all(\"a\")]\n",
        "        except Exception as e:\n",
        "            print(f\"Gagal ambil detail {link}: {e}\")\n",
        "\n",
        "    if title and link:\n",
        "        data.append({\n",
        "            \"title\": title,\n",
        "            \"link\": link,\n",
        "            \"summary\": summary,\n",
        "            \"publish_time\": publish_time,\n",
        "            \"category\": category,\n",
        "            \"author\": author,\n",
        "            \"content\": content,\n",
        "            \"tags\": tags\n",
        "        })\n",
        "\n",
        "# Konversi ke DataFrame\n",
        "df = pd.DataFrame(data)\n",
        "\n",
        "# --- EXPORT FILE ---\n",
        "\n",
        "# CSV\n",
        "csv_file = \"berita.csv\"\n",
        "df.to_csv(csv_file, index=False, encoding=\"utf-8\")\n",
        "\n",
        "# Excel\n",
        "excel_file = \"berita.xlsx\"\n",
        "df.to_excel(excel_file, index=False)\n",
        "\n",
        "# JSON\n",
        "json_file = \"berita.json\"\n",
        "with open(json_file, \"w\", encoding=\"utf-8\") as f:\n",
        "    json.dump(data, f, ensure_ascii=False, indent=4)\n",
        "\n",
        "# --- DOWNLOAD FILE DARI COLAB ---\n",
        "files.download(csv_file)\n",
        "files.download(excel_file)\n",
        "files.download(json_file)\n",
        "\n",
        "print(f\"Scraping selesai , total {len(data)} berita dengan metadata lengkap berhasil disimpan!\")\n"
      ],
      "metadata": {
        "colab": {
          "base_uri": "https://localhost:8080/",
          "height": 34
        },
        "id": "09rr7Ixsa8OO",
        "outputId": "f21b8526-ea74-44ca-b016-f66394faf78a"
      },
      "execution_count": 3,
      "outputs": [
        {
          "output_type": "display_data",
          "data": {
            "text/plain": [
              "<IPython.core.display.Javascript object>"
            ],
            "application/javascript": [
              "\n",
              "    async function download(id, filename, size) {\n",
              "      if (!google.colab.kernel.accessAllowed) {\n",
              "        return;\n",
              "      }\n",
              "      const div = document.createElement('div');\n",
              "      const label = document.createElement('label');\n",
              "      label.textContent = `Downloading \"${filename}\": `;\n",
              "      div.appendChild(label);\n",
              "      const progress = document.createElement('progress');\n",
              "      progress.max = size;\n",
              "      div.appendChild(progress);\n",
              "      document.body.appendChild(div);\n",
              "\n",
              "      const buffers = [];\n",
              "      let downloaded = 0;\n",
              "\n",
              "      const channel = await google.colab.kernel.comms.open(id);\n",
              "      // Send a message to notify the kernel that we're ready.\n",
              "      channel.send({})\n",
              "\n",
              "      for await (const message of channel.messages) {\n",
              "        // Send a message to notify the kernel that we're ready.\n",
              "        channel.send({})\n",
              "        if (message.buffers) {\n",
              "          for (const buffer of message.buffers) {\n",
              "            buffers.push(buffer);\n",
              "            downloaded += buffer.byteLength;\n",
              "            progress.value = downloaded;\n",
              "          }\n",
              "        }\n",
              "      }\n",
              "      const blob = new Blob(buffers, {type: 'application/binary'});\n",
              "      const a = document.createElement('a');\n",
              "      a.href = window.URL.createObjectURL(blob);\n",
              "      a.download = filename;\n",
              "      div.appendChild(a);\n",
              "      a.click();\n",
              "      div.remove();\n",
              "    }\n",
              "  "
            ]
          },
          "metadata": {}
        },
        {
          "output_type": "display_data",
          "data": {
            "text/plain": [
              "<IPython.core.display.Javascript object>"
            ],
            "application/javascript": [
              "download(\"download_66d39c8b-64a1-403a-b59b-5da8daafaf6d\", \"berita.csv\", 75500)"
            ]
          },
          "metadata": {}
        },
        {
          "output_type": "display_data",
          "data": {
            "text/plain": [
              "<IPython.core.display.Javascript object>"
            ],
            "application/javascript": [
              "\n",
              "    async function download(id, filename, size) {\n",
              "      if (!google.colab.kernel.accessAllowed) {\n",
              "        return;\n",
              "      }\n",
              "      const div = document.createElement('div');\n",
              "      const label = document.createElement('label');\n",
              "      label.textContent = `Downloading \"${filename}\": `;\n",
              "      div.appendChild(label);\n",
              "      const progress = document.createElement('progress');\n",
              "      progress.max = size;\n",
              "      div.appendChild(progress);\n",
              "      document.body.appendChild(div);\n",
              "\n",
              "      const buffers = [];\n",
              "      let downloaded = 0;\n",
              "\n",
              "      const channel = await google.colab.kernel.comms.open(id);\n",
              "      // Send a message to notify the kernel that we're ready.\n",
              "      channel.send({})\n",
              "\n",
              "      for await (const message of channel.messages) {\n",
              "        // Send a message to notify the kernel that we're ready.\n",
              "        channel.send({})\n",
              "        if (message.buffers) {\n",
              "          for (const buffer of message.buffers) {\n",
              "            buffers.push(buffer);\n",
              "            downloaded += buffer.byteLength;\n",
              "            progress.value = downloaded;\n",
              "          }\n",
              "        }\n",
              "      }\n",
              "      const blob = new Blob(buffers, {type: 'application/binary'});\n",
              "      const a = document.createElement('a');\n",
              "      a.href = window.URL.createObjectURL(blob);\n",
              "      a.download = filename;\n",
              "      div.appendChild(a);\n",
              "      a.click();\n",
              "      div.remove();\n",
              "    }\n",
              "  "
            ]
          },
          "metadata": {}
        },
        {
          "output_type": "display_data",
          "data": {
            "text/plain": [
              "<IPython.core.display.Javascript object>"
            ],
            "application/javascript": [
              "download(\"download_f5c83c99-04b0-4b82-aac3-aa6cf9c5f03b\", \"berita.xlsx\", 27332)"
            ]
          },
          "metadata": {}
        },
        {
          "output_type": "display_data",
          "data": {
            "text/plain": [
              "<IPython.core.display.Javascript object>"
            ],
            "application/javascript": [
              "\n",
              "    async function download(id, filename, size) {\n",
              "      if (!google.colab.kernel.accessAllowed) {\n",
              "        return;\n",
              "      }\n",
              "      const div = document.createElement('div');\n",
              "      const label = document.createElement('label');\n",
              "      label.textContent = `Downloading \"${filename}\": `;\n",
              "      div.appendChild(label);\n",
              "      const progress = document.createElement('progress');\n",
              "      progress.max = size;\n",
              "      div.appendChild(progress);\n",
              "      document.body.appendChild(div);\n",
              "\n",
              "      const buffers = [];\n",
              "      let downloaded = 0;\n",
              "\n",
              "      const channel = await google.colab.kernel.comms.open(id);\n",
              "      // Send a message to notify the kernel that we're ready.\n",
              "      channel.send({})\n",
              "\n",
              "      for await (const message of channel.messages) {\n",
              "        // Send a message to notify the kernel that we're ready.\n",
              "        channel.send({})\n",
              "        if (message.buffers) {\n",
              "          for (const buffer of message.buffers) {\n",
              "            buffers.push(buffer);\n",
              "            downloaded += buffer.byteLength;\n",
              "            progress.value = downloaded;\n",
              "          }\n",
              "        }\n",
              "      }\n",
              "      const blob = new Blob(buffers, {type: 'application/binary'});\n",
              "      const a = document.createElement('a');\n",
              "      a.href = window.URL.createObjectURL(blob);\n",
              "      a.download = filename;\n",
              "      div.appendChild(a);\n",
              "      a.click();\n",
              "      div.remove();\n",
              "    }\n",
              "  "
            ]
          },
          "metadata": {}
        },
        {
          "output_type": "display_data",
          "data": {
            "text/plain": [
              "<IPython.core.display.Javascript object>"
            ],
            "application/javascript": [
              "download(\"download_d28d8170-e251-4272-9c12-cb0d4bd447b7\", \"berita.json\", 80789)"
            ]
          },
          "metadata": {}
        },
        {
          "output_type": "stream",
          "name": "stdout",
          "text": [
            "Scraping selesai , total 28 berita dengan metadata lengkap berhasil disimpan!\n"
          ]
        }
      ]
    }
  ],
  "metadata": {
    "colab": {
      "provenance": [],
      "include_colab_link": true
    },
    "kernelspec": {
      "display_name": "Python 3",
      "name": "python3"
    }
  },
  "nbformat": 4,
  "nbformat_minor": 0
}