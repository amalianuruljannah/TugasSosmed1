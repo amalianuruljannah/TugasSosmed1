{
  "cells": [
    {
      "cell_type": "markdown",
      "metadata": {
        "id": "view-in-github",
        "colab_type": "text"
      },
      "source": [
        "<a href=\"https://colab.research.google.com/github/amalianuruljannah/TugasSosmed1/blob/main/Tugas_Sosmed_1.ipynb\" target=\"_parent\"><img src=\"https://colab.research.google.com/assets/colab-badge.svg\" alt=\"Open In Colab\"/></a>"
      ]
    },
    {
      "cell_type": "code",
      "source": [
        "# --- Install library tambahan (jika perlu) ---\n",
        "!pip install tqdm openpyxl\n",
        "\n",
        "import requests\n",
        "from bs4 import BeautifulSoup\n",
        "import pandas as pd\n",
        "import time\n",
        "import json\n",
        "from tqdm import tqdm\n",
        "from google.colab import files\n",
        "from datetime import datetime\n",
        "\n",
        "# HEADERS untuk menyamar sebagai browser\n",
        "HEADERS = {\n",
        "    'User-Agent': 'Mozilla/5.0 (Windows NT 10.0; Win64; x64) AppleWebKit/537.36 (KHTML, like Gecko) Chrome/91.0.4472.124 Safari/537.36'\n",
        "}\n",
        "\n",
        "# --- Scraping detail artikel ---\n",
        "def scrape_article_detail(url):\n",
        "    try:\n",
        "        response = requests.get(url, headers=HEADERS, timeout=10)\n",
        "        if response.status_code != 200:\n",
        "            return None\n",
        "\n",
        "        soup = BeautifulSoup(response.text, 'html.parser')\n",
        "\n",
        "        # Isi artikel\n",
        "        content_div = soup.find('div', class_='detail-text')\n",
        "        if not content_div:\n",
        "            return None\n",
        "        paragraphs = content_div.find_all('p')\n",
        "        full_content = ' '.join([p.get_text(strip=True) for p in paragraphs])\n",
        "\n",
        "        # Published Date\n",
        "        date_elem = soup.find('div', class_='date')\n",
        "        if date_elem:\n",
        "            published_date = date_elem.get_text(strip=True)\n",
        "        else:\n",
        "            # fallback ke meta tag\n",
        "            meta_date = soup.find(\"meta\", attrs={\"property\": \"article:published_time\"})\n",
        "            if meta_date and meta_date.get(\"content\"):\n",
        "                raw_date = meta_date[\"content\"]\n",
        "                try:\n",
        "                    dt = datetime.fromisoformat(raw_date.replace(\"Z\", \"+00:00\"))\n",
        "                    published_date = dt.strftime(\"%d %B %Y, %H:%M WIB\")\n",
        "                except:\n",
        "                    published_date = raw_date\n",
        "            else:\n",
        "                published_date = \"Tanggal tidak ditemukan\"\n",
        "\n",
        "        return {\n",
        "            'published_date': published_date,\n",
        "            'content': full_content\n",
        "        }\n",
        "    except Exception as e:\n",
        "        print(\"Error detail:\", e)\n",
        "        return None\n",
        "\n",
        "# --- Scraping daftar artikel ---\n",
        "def scrape_cnn_indeks(total_pages=2):\n",
        "    all_articles = []\n",
        "    base_url = 'https://www.cnnindonesia.com/indeks'\n",
        "\n",
        "    for page in range(1, total_pages + 1):\n",
        "        index_url = f\"{base_url}?page={page}\" if page > 1 else base_url\n",
        "        response = requests.get(index_url, headers=HEADERS, timeout=10)\n",
        "        if response.status_code != 200:\n",
        "            continue\n",
        "\n",
        "        soup = BeautifulSoup(response.text, 'html.parser')\n",
        "        articles_on_page = soup.find_all('article')\n",
        "\n",
        "        for article_tag in tqdm(articles_on_page, desc=f\"Scraping Halaman {page}\"):\n",
        "            link_tag = article_tag.find('a')\n",
        "            if not link_tag or not link_tag.has_attr('href'):\n",
        "                continue\n",
        "            article_url = link_tag['href']\n",
        "\n",
        "            title_tag = article_tag.find('h2')\n",
        "            title = title_tag.get_text(strip=True) if title_tag else 'N/A'\n",
        "\n",
        "            detail_data = scrape_article_detail(article_url)\n",
        "\n",
        "            if detail_data:\n",
        "                article_data = {\n",
        "                    'title': title,\n",
        "                    'published_date': detail_data['published_date'],\n",
        "                    'article_url': article_url,\n",
        "                    'content': detail_data['content'],\n",
        "                    'source_page': page\n",
        "                }\n",
        "                all_articles.append(article_data)\n",
        "\n",
        "            time.sleep(0.5)\n",
        "\n",
        "    return all_articles\n",
        "\n",
        "# --- Eksekusi ---\n",
        "scraped_data = scrape_cnn_indeks(total_pages=2)\n",
        "\n",
        "if scraped_data:\n",
        "    df = pd.DataFrame(scraped_data)\n",
        "\n",
        "    # Simpan CSV\n",
        "    csv_filename = 'cnn_scraped.csv'\n",
        "    df.to_csv(csv_filename, index=False, encoding='utf-8-sig')\n",
        "    files.download(csv_filename)\n",
        "\n",
        "    # Simpan JSON\n",
        "    json_filename = 'cnn_scraped.json'\n",
        "    with open(json_filename, \"w\", encoding=\"utf-8\") as f:\n",
        "        json.dump(scraped_data, f, ensure_ascii=False, indent=4)\n",
        "    files.download(json_filename)\n",
        "\n",
        "    # Simpan XLSX\n",
        "    xlsx_filename = 'cnn_scraped.xlsx'\n",
        "    df.to_excel(xlsx_filename, index=False)\n",
        "    files.download(xlsx_filename)\n",
        "\n",
        "    print(\"✅ Data berhasil diekspor & siap di-download!\")\n",
        "    display(df.head())\n",
        "else:\n",
        "    print(\"❌ Tidak ada data yang berhasil di-scrape.\")\n"
      ],
      "metadata": {
        "colab": {
          "base_uri": "https://localhost:8080/",
          "height": 1000
        },
        "id": "ja8LeIQPrixQ",
        "outputId": "ce64ad61-0cb7-4f23-89dc-71ba4d03a45e"
      },
      "execution_count": 10,
      "outputs": [
        {
          "output_type": "stream",
          "name": "stdout",
          "text": [
            "Requirement already satisfied: tqdm in /usr/local/lib/python3.12/dist-packages (4.67.1)\n",
            "Requirement already satisfied: openpyxl in /usr/local/lib/python3.12/dist-packages (3.1.5)\n",
            "Requirement already satisfied: et-xmlfile in /usr/local/lib/python3.12/dist-packages (from openpyxl) (2.0.0)\n"
          ]
        },
        {
          "output_type": "stream",
          "name": "stderr",
          "text": [
            "\rScraping Halaman 1:   0%|          | 0/34 [00:00<?, ?it/s]"
          ]
        },
        {
          "output_type": "stream",
          "name": "stdout",
          "text": [
            "Error detail: Invalid URL '#': No scheme supplied. Perhaps you meant https://#?\n"
          ]
        },
        {
          "output_type": "stream",
          "name": "stderr",
          "text": [
            "\rScraping Halaman 1:   3%|▎         | 1/34 [00:00<00:16,  2.00it/s]"
          ]
        },
        {
          "output_type": "stream",
          "name": "stdout",
          "text": [
            "Error detail: Invalid URL '#': No scheme supplied. Perhaps you meant https://#?\n"
          ]
        },
        {
          "output_type": "stream",
          "name": "stderr",
          "text": [
            "\rScraping Halaman 1:   6%|▌         | 2/34 [00:01<00:16,  2.00it/s]"
          ]
        },
        {
          "output_type": "stream",
          "name": "stdout",
          "text": [
            "Error detail: Invalid URL '#': No scheme supplied. Perhaps you meant https://#?\n"
          ]
        },
        {
          "output_type": "stream",
          "name": "stderr",
          "text": [
            "\rScraping Halaman 1:   9%|▉         | 3/34 [00:01<00:15,  1.99it/s]"
          ]
        },
        {
          "output_type": "stream",
          "name": "stdout",
          "text": [
            "Error detail: Invalid URL '#': No scheme supplied. Perhaps you meant https://#?\n"
          ]
        },
        {
          "output_type": "stream",
          "name": "stderr",
          "text": [
            "\rScraping Halaman 1:  12%|█▏        | 4/34 [00:02<00:15,  1.99it/s]"
          ]
        },
        {
          "output_type": "stream",
          "name": "stdout",
          "text": [
            "Error detail: Invalid URL '#': No scheme supplied. Perhaps you meant https://#?\n"
          ]
        },
        {
          "output_type": "stream",
          "name": "stderr",
          "text": [
            "\rScraping Halaman 1:  15%|█▍        | 5/34 [00:02<00:14,  1.99it/s]"
          ]
        },
        {
          "output_type": "stream",
          "name": "stdout",
          "text": [
            "Error detail: Invalid URL '#': No scheme supplied. Perhaps you meant https://#?\n"
          ]
        },
        {
          "output_type": "stream",
          "name": "stderr",
          "text": [
            "\rScraping Halaman 1:  18%|█▊        | 6/34 [00:03<00:14,  1.99it/s]"
          ]
        },
        {
          "output_type": "stream",
          "name": "stdout",
          "text": [
            "Error detail: Invalid URL '#': No scheme supplied. Perhaps you meant https://#?\n"
          ]
        },
        {
          "output_type": "stream",
          "name": "stderr",
          "text": [
            "\rScraping Halaman 1:  21%|██        | 7/34 [00:03<00:13,  1.99it/s]"
          ]
        },
        {
          "output_type": "stream",
          "name": "stdout",
          "text": [
            "Error detail: Invalid URL '#': No scheme supplied. Perhaps you meant https://#?\n"
          ]
        },
        {
          "output_type": "stream",
          "name": "stderr",
          "text": [
            "\rScraping Halaman 1:  24%|██▎       | 8/34 [00:04<00:13,  1.99it/s]"
          ]
        },
        {
          "output_type": "stream",
          "name": "stdout",
          "text": [
            "Error detail: Invalid URL '#': No scheme supplied. Perhaps you meant https://#?\n"
          ]
        },
        {
          "output_type": "stream",
          "name": "stderr",
          "text": [
            "\rScraping Halaman 1:  26%|██▋       | 9/34 [00:04<00:12,  1.99it/s]"
          ]
        },
        {
          "output_type": "stream",
          "name": "stdout",
          "text": [
            "Error detail: Invalid URL '#': No scheme supplied. Perhaps you meant https://#?\n"
          ]
        },
        {
          "output_type": "stream",
          "name": "stderr",
          "text": [
            "\rScraping Halaman 1:  29%|██▉       | 10/34 [00:05<00:12,  1.99it/s]"
          ]
        },
        {
          "output_type": "stream",
          "name": "stdout",
          "text": [
            "Error detail: Invalid URL '#': No scheme supplied. Perhaps you meant https://#?\n"
          ]
        },
        {
          "output_type": "stream",
          "name": "stderr",
          "text": [
            "\rScraping Halaman 1:  32%|███▏      | 11/34 [00:05<00:11,  1.99it/s]"
          ]
        },
        {
          "output_type": "stream",
          "name": "stdout",
          "text": [
            "Error detail: Invalid URL '#': No scheme supplied. Perhaps you meant https://#?\n"
          ]
        },
        {
          "output_type": "stream",
          "name": "stderr",
          "text": [
            "\rScraping Halaman 1:  35%|███▌      | 12/34 [00:06<00:11,  1.99it/s]"
          ]
        },
        {
          "output_type": "stream",
          "name": "stdout",
          "text": [
            "Error detail: Invalid URL '#': No scheme supplied. Perhaps you meant https://#?\n"
          ]
        },
        {
          "output_type": "stream",
          "name": "stderr",
          "text": [
            "\rScraping Halaman 1:  38%|███▊      | 13/34 [00:06<00:10,  1.99it/s]"
          ]
        },
        {
          "output_type": "stream",
          "name": "stdout",
          "text": [
            "Error detail: Invalid URL '#': No scheme supplied. Perhaps you meant https://#?\n"
          ]
        },
        {
          "output_type": "stream",
          "name": "stderr",
          "text": [
            "\rScraping Halaman 1:  41%|████      | 14/34 [00:07<00:10,  1.99it/s]"
          ]
        },
        {
          "output_type": "stream",
          "name": "stdout",
          "text": [
            "Error detail: Invalid URL '#': No scheme supplied. Perhaps you meant https://#?\n"
          ]
        },
        {
          "output_type": "stream",
          "name": "stderr",
          "text": [
            "\rScraping Halaman 1:  44%|████▍     | 15/34 [00:07<00:09,  1.99it/s]"
          ]
        },
        {
          "output_type": "stream",
          "name": "stdout",
          "text": [
            "Error detail: Invalid URL '#': No scheme supplied. Perhaps you meant https://#?\n"
          ]
        },
        {
          "output_type": "stream",
          "name": "stderr",
          "text": [
            "\rScraping Halaman 1:  47%|████▋     | 16/34 [00:08<00:09,  1.99it/s]"
          ]
        },
        {
          "output_type": "stream",
          "name": "stdout",
          "text": [
            "Error detail: Invalid URL '#': No scheme supplied. Perhaps you meant https://#?\n"
          ]
        },
        {
          "output_type": "stream",
          "name": "stderr",
          "text": [
            "\rScraping Halaman 1:  50%|█████     | 17/34 [00:08<00:08,  1.99it/s]"
          ]
        },
        {
          "output_type": "stream",
          "name": "stdout",
          "text": [
            "Error detail: Invalid URL '#': No scheme supplied. Perhaps you meant https://#?\n"
          ]
        },
        {
          "output_type": "stream",
          "name": "stderr",
          "text": [
            "\rScraping Halaman 1:  53%|█████▎    | 18/34 [00:09<00:08,  1.99it/s]"
          ]
        },
        {
          "output_type": "stream",
          "name": "stdout",
          "text": [
            "Error detail: Invalid URL '#': No scheme supplied. Perhaps you meant https://#?\n"
          ]
        },
        {
          "output_type": "stream",
          "name": "stderr",
          "text": [
            "\rScraping Halaman 1:  56%|█████▌    | 19/34 [00:09<00:07,  1.99it/s]"
          ]
        },
        {
          "output_type": "stream",
          "name": "stdout",
          "text": [
            "Error detail: Invalid URL '#': No scheme supplied. Perhaps you meant https://#?\n"
          ]
        },
        {
          "output_type": "stream",
          "name": "stderr",
          "text": [
            "\rScraping Halaman 1:  59%|█████▉    | 20/34 [00:10<00:07,  1.99it/s]"
          ]
        },
        {
          "output_type": "stream",
          "name": "stdout",
          "text": [
            "Error detail: Invalid URL '#': No scheme supplied. Perhaps you meant https://#?\n"
          ]
        },
        {
          "output_type": "stream",
          "name": "stderr",
          "text": [
            "\rScraping Halaman 1:  62%|██████▏   | 21/34 [00:10<00:06,  1.99it/s]"
          ]
        },
        {
          "output_type": "stream",
          "name": "stdout",
          "text": [
            "Error detail: Invalid URL '#': No scheme supplied. Perhaps you meant https://#?\n"
          ]
        },
        {
          "output_type": "stream",
          "name": "stderr",
          "text": [
            "\rScraping Halaman 1:  65%|██████▍   | 22/34 [00:11<00:06,  1.99it/s]"
          ]
        },
        {
          "output_type": "stream",
          "name": "stdout",
          "text": [
            "Error detail: Invalid URL '#': No scheme supplied. Perhaps you meant https://#?\n"
          ]
        },
        {
          "output_type": "stream",
          "name": "stderr",
          "text": [
            "\rScraping Halaman 1:  68%|██████▊   | 23/34 [00:11<00:05,  1.99it/s]"
          ]
        },
        {
          "output_type": "stream",
          "name": "stdout",
          "text": [
            "Error detail: Invalid URL '#': No scheme supplied. Perhaps you meant https://#?\n"
          ]
        },
        {
          "output_type": "stream",
          "name": "stderr",
          "text": [
            "Scraping Halaman 1: 100%|██████████| 34/34 [00:22<00:00,  1.51it/s]\n",
            "Scraping Halaman 2:   0%|          | 0/34 [00:00<?, ?it/s]"
          ]
        },
        {
          "output_type": "stream",
          "name": "stdout",
          "text": [
            "Error detail: Invalid URL '#': No scheme supplied. Perhaps you meant https://#?\n"
          ]
        },
        {
          "output_type": "stream",
          "name": "stderr",
          "text": [
            "\rScraping Halaman 2:   3%|▎         | 1/34 [00:00<00:16,  2.00it/s]"
          ]
        },
        {
          "output_type": "stream",
          "name": "stdout",
          "text": [
            "Error detail: Invalid URL '#': No scheme supplied. Perhaps you meant https://#?\n"
          ]
        },
        {
          "output_type": "stream",
          "name": "stderr",
          "text": [
            "\rScraping Halaman 2:   6%|▌         | 2/34 [00:01<00:16,  1.99it/s]"
          ]
        },
        {
          "output_type": "stream",
          "name": "stdout",
          "text": [
            "Error detail: Invalid URL '#': No scheme supplied. Perhaps you meant https://#?\n"
          ]
        },
        {
          "output_type": "stream",
          "name": "stderr",
          "text": [
            "\rScraping Halaman 2:   9%|▉         | 3/34 [00:01<00:15,  1.99it/s]"
          ]
        },
        {
          "output_type": "stream",
          "name": "stdout",
          "text": [
            "Error detail: Invalid URL '#': No scheme supplied. Perhaps you meant https://#?\n"
          ]
        },
        {
          "output_type": "stream",
          "name": "stderr",
          "text": [
            "\rScraping Halaman 2:  12%|█▏        | 4/34 [00:02<00:15,  1.99it/s]"
          ]
        },
        {
          "output_type": "stream",
          "name": "stdout",
          "text": [
            "Error detail: Invalid URL '#': No scheme supplied. Perhaps you meant https://#?\n"
          ]
        },
        {
          "output_type": "stream",
          "name": "stderr",
          "text": [
            "\rScraping Halaman 2:  15%|█▍        | 5/34 [00:02<00:14,  1.99it/s]"
          ]
        },
        {
          "output_type": "stream",
          "name": "stdout",
          "text": [
            "Error detail: Invalid URL '#': No scheme supplied. Perhaps you meant https://#?\n"
          ]
        },
        {
          "output_type": "stream",
          "name": "stderr",
          "text": [
            "\rScraping Halaman 2:  18%|█▊        | 6/34 [00:03<00:14,  1.99it/s]"
          ]
        },
        {
          "output_type": "stream",
          "name": "stdout",
          "text": [
            "Error detail: Invalid URL '#': No scheme supplied. Perhaps you meant https://#?\n"
          ]
        },
        {
          "output_type": "stream",
          "name": "stderr",
          "text": [
            "\rScraping Halaman 2:  21%|██        | 7/34 [00:03<00:13,  1.99it/s]"
          ]
        },
        {
          "output_type": "stream",
          "name": "stdout",
          "text": [
            "Error detail: Invalid URL '#': No scheme supplied. Perhaps you meant https://#?\n"
          ]
        },
        {
          "output_type": "stream",
          "name": "stderr",
          "text": [
            "\rScraping Halaman 2:  24%|██▎       | 8/34 [00:04<00:13,  1.99it/s]"
          ]
        },
        {
          "output_type": "stream",
          "name": "stdout",
          "text": [
            "Error detail: Invalid URL '#': No scheme supplied. Perhaps you meant https://#?\n"
          ]
        },
        {
          "output_type": "stream",
          "name": "stderr",
          "text": [
            "\rScraping Halaman 2:  26%|██▋       | 9/34 [00:04<00:12,  1.99it/s]"
          ]
        },
        {
          "output_type": "stream",
          "name": "stdout",
          "text": [
            "Error detail: Invalid URL '#': No scheme supplied. Perhaps you meant https://#?\n"
          ]
        },
        {
          "output_type": "stream",
          "name": "stderr",
          "text": [
            "\rScraping Halaman 2:  29%|██▉       | 10/34 [00:05<00:12,  1.99it/s]"
          ]
        },
        {
          "output_type": "stream",
          "name": "stdout",
          "text": [
            "Error detail: Invalid URL '#': No scheme supplied. Perhaps you meant https://#?\n"
          ]
        },
        {
          "output_type": "stream",
          "name": "stderr",
          "text": [
            "\rScraping Halaman 2:  32%|███▏      | 11/34 [00:05<00:11,  1.99it/s]"
          ]
        },
        {
          "output_type": "stream",
          "name": "stdout",
          "text": [
            "Error detail: Invalid URL '#': No scheme supplied. Perhaps you meant https://#?\n"
          ]
        },
        {
          "output_type": "stream",
          "name": "stderr",
          "text": [
            "\rScraping Halaman 2:  35%|███▌      | 12/34 [00:06<00:11,  1.99it/s]"
          ]
        },
        {
          "output_type": "stream",
          "name": "stdout",
          "text": [
            "Error detail: Invalid URL '#': No scheme supplied. Perhaps you meant https://#?\n"
          ]
        },
        {
          "output_type": "stream",
          "name": "stderr",
          "text": [
            "\rScraping Halaman 2:  38%|███▊      | 13/34 [00:06<00:10,  1.99it/s]"
          ]
        },
        {
          "output_type": "stream",
          "name": "stdout",
          "text": [
            "Error detail: Invalid URL '#': No scheme supplied. Perhaps you meant https://#?\n"
          ]
        },
        {
          "output_type": "stream",
          "name": "stderr",
          "text": [
            "\rScraping Halaman 2:  41%|████      | 14/34 [00:07<00:10,  1.99it/s]"
          ]
        },
        {
          "output_type": "stream",
          "name": "stdout",
          "text": [
            "Error detail: Invalid URL '#': No scheme supplied. Perhaps you meant https://#?\n"
          ]
        },
        {
          "output_type": "stream",
          "name": "stderr",
          "text": [
            "\rScraping Halaman 2:  44%|████▍     | 15/34 [00:07<00:09,  1.99it/s]"
          ]
        },
        {
          "output_type": "stream",
          "name": "stdout",
          "text": [
            "Error detail: Invalid URL '#': No scheme supplied. Perhaps you meant https://#?\n"
          ]
        },
        {
          "output_type": "stream",
          "name": "stderr",
          "text": [
            "\rScraping Halaman 2:  47%|████▋     | 16/34 [00:08<00:09,  1.99it/s]"
          ]
        },
        {
          "output_type": "stream",
          "name": "stdout",
          "text": [
            "Error detail: Invalid URL '#': No scheme supplied. Perhaps you meant https://#?\n"
          ]
        },
        {
          "output_type": "stream",
          "name": "stderr",
          "text": [
            "\rScraping Halaman 2:  50%|█████     | 17/34 [00:08<00:08,  1.99it/s]"
          ]
        },
        {
          "output_type": "stream",
          "name": "stdout",
          "text": [
            "Error detail: Invalid URL '#': No scheme supplied. Perhaps you meant https://#?\n"
          ]
        },
        {
          "output_type": "stream",
          "name": "stderr",
          "text": [
            "\rScraping Halaman 2:  53%|█████▎    | 18/34 [00:09<00:08,  1.99it/s]"
          ]
        },
        {
          "output_type": "stream",
          "name": "stdout",
          "text": [
            "Error detail: Invalid URL '#': No scheme supplied. Perhaps you meant https://#?\n"
          ]
        },
        {
          "output_type": "stream",
          "name": "stderr",
          "text": [
            "\rScraping Halaman 2:  56%|█████▌    | 19/34 [00:09<00:07,  1.99it/s]"
          ]
        },
        {
          "output_type": "stream",
          "name": "stdout",
          "text": [
            "Error detail: Invalid URL '#': No scheme supplied. Perhaps you meant https://#?\n"
          ]
        },
        {
          "output_type": "stream",
          "name": "stderr",
          "text": [
            "\rScraping Halaman 2:  59%|█████▉    | 20/34 [00:10<00:07,  1.99it/s]"
          ]
        },
        {
          "output_type": "stream",
          "name": "stdout",
          "text": [
            "Error detail: Invalid URL '#': No scheme supplied. Perhaps you meant https://#?\n"
          ]
        },
        {
          "output_type": "stream",
          "name": "stderr",
          "text": [
            "\rScraping Halaman 2:  62%|██████▏   | 21/34 [00:10<00:06,  1.99it/s]"
          ]
        },
        {
          "output_type": "stream",
          "name": "stdout",
          "text": [
            "Error detail: Invalid URL '#': No scheme supplied. Perhaps you meant https://#?\n"
          ]
        },
        {
          "output_type": "stream",
          "name": "stderr",
          "text": [
            "\rScraping Halaman 2:  65%|██████▍   | 22/34 [00:11<00:06,  1.99it/s]"
          ]
        },
        {
          "output_type": "stream",
          "name": "stdout",
          "text": [
            "Error detail: Invalid URL '#': No scheme supplied. Perhaps you meant https://#?\n"
          ]
        },
        {
          "output_type": "stream",
          "name": "stderr",
          "text": [
            "\rScraping Halaman 2:  68%|██████▊   | 23/34 [00:11<00:05,  1.99it/s]"
          ]
        },
        {
          "output_type": "stream",
          "name": "stdout",
          "text": [
            "Error detail: Invalid URL '#': No scheme supplied. Perhaps you meant https://#?\n"
          ]
        },
        {
          "output_type": "stream",
          "name": "stderr",
          "text": [
            "Scraping Halaman 2: 100%|██████████| 34/34 [00:23<00:00,  1.47it/s]\n"
          ]
        },
        {
          "output_type": "display_data",
          "data": {
            "text/plain": [
              "<IPython.core.display.Javascript object>"
            ],
            "application/javascript": [
              "\n",
              "    async function download(id, filename, size) {\n",
              "      if (!google.colab.kernel.accessAllowed) {\n",
              "        return;\n",
              "      }\n",
              "      const div = document.createElement('div');\n",
              "      const label = document.createElement('label');\n",
              "      label.textContent = `Downloading \"${filename}\": `;\n",
              "      div.appendChild(label);\n",
              "      const progress = document.createElement('progress');\n",
              "      progress.max = size;\n",
              "      div.appendChild(progress);\n",
              "      document.body.appendChild(div);\n",
              "\n",
              "      const buffers = [];\n",
              "      let downloaded = 0;\n",
              "\n",
              "      const channel = await google.colab.kernel.comms.open(id);\n",
              "      // Send a message to notify the kernel that we're ready.\n",
              "      channel.send({})\n",
              "\n",
              "      for await (const message of channel.messages) {\n",
              "        // Send a message to notify the kernel that we're ready.\n",
              "        channel.send({})\n",
              "        if (message.buffers) {\n",
              "          for (const buffer of message.buffers) {\n",
              "            buffers.push(buffer);\n",
              "            downloaded += buffer.byteLength;\n",
              "            progress.value = downloaded;\n",
              "          }\n",
              "        }\n",
              "      }\n",
              "      const blob = new Blob(buffers, {type: 'application/binary'});\n",
              "      const a = document.createElement('a');\n",
              "      a.href = window.URL.createObjectURL(blob);\n",
              "      a.download = filename;\n",
              "      div.appendChild(a);\n",
              "      a.click();\n",
              "      div.remove();\n",
              "    }\n",
              "  "
            ]
          },
          "metadata": {}
        },
        {
          "output_type": "display_data",
          "data": {
            "text/plain": [
              "<IPython.core.display.Javascript object>"
            ],
            "application/javascript": [
              "download(\"download_308d00bf-d788-4b53-b6c5-0f10f188d5db\", \"cnn_scraped.csv\", 45953)"
            ]
          },
          "metadata": {}
        },
        {
          "output_type": "display_data",
          "data": {
            "text/plain": [
              "<IPython.core.display.Javascript object>"
            ],
            "application/javascript": [
              "\n",
              "    async function download(id, filename, size) {\n",
              "      if (!google.colab.kernel.accessAllowed) {\n",
              "        return;\n",
              "      }\n",
              "      const div = document.createElement('div');\n",
              "      const label = document.createElement('label');\n",
              "      label.textContent = `Downloading \"${filename}\": `;\n",
              "      div.appendChild(label);\n",
              "      const progress = document.createElement('progress');\n",
              "      progress.max = size;\n",
              "      div.appendChild(progress);\n",
              "      document.body.appendChild(div);\n",
              "\n",
              "      const buffers = [];\n",
              "      let downloaded = 0;\n",
              "\n",
              "      const channel = await google.colab.kernel.comms.open(id);\n",
              "      // Send a message to notify the kernel that we're ready.\n",
              "      channel.send({})\n",
              "\n",
              "      for await (const message of channel.messages) {\n",
              "        // Send a message to notify the kernel that we're ready.\n",
              "        channel.send({})\n",
              "        if (message.buffers) {\n",
              "          for (const buffer of message.buffers) {\n",
              "            buffers.push(buffer);\n",
              "            downloaded += buffer.byteLength;\n",
              "            progress.value = downloaded;\n",
              "          }\n",
              "        }\n",
              "      }\n",
              "      const blob = new Blob(buffers, {type: 'application/binary'});\n",
              "      const a = document.createElement('a');\n",
              "      a.href = window.URL.createObjectURL(blob);\n",
              "      a.download = filename;\n",
              "      div.appendChild(a);\n",
              "      a.click();\n",
              "      div.remove();\n",
              "    }\n",
              "  "
            ]
          },
          "metadata": {}
        },
        {
          "output_type": "display_data",
          "data": {
            "text/plain": [
              "<IPython.core.display.Javascript object>"
            ],
            "application/javascript": [
              "download(\"download_63b7ad23-2d67-4682-930d-b79eccd41888\", \"cnn_scraped.json\", 48515)"
            ]
          },
          "metadata": {}
        },
        {
          "output_type": "display_data",
          "data": {
            "text/plain": [
              "<IPython.core.display.Javascript object>"
            ],
            "application/javascript": [
              "\n",
              "    async function download(id, filename, size) {\n",
              "      if (!google.colab.kernel.accessAllowed) {\n",
              "        return;\n",
              "      }\n",
              "      const div = document.createElement('div');\n",
              "      const label = document.createElement('label');\n",
              "      label.textContent = `Downloading \"${filename}\": `;\n",
              "      div.appendChild(label);\n",
              "      const progress = document.createElement('progress');\n",
              "      progress.max = size;\n",
              "      div.appendChild(progress);\n",
              "      document.body.appendChild(div);\n",
              "\n",
              "      const buffers = [];\n",
              "      let downloaded = 0;\n",
              "\n",
              "      const channel = await google.colab.kernel.comms.open(id);\n",
              "      // Send a message to notify the kernel that we're ready.\n",
              "      channel.send({})\n",
              "\n",
              "      for await (const message of channel.messages) {\n",
              "        // Send a message to notify the kernel that we're ready.\n",
              "        channel.send({})\n",
              "        if (message.buffers) {\n",
              "          for (const buffer of message.buffers) {\n",
              "            buffers.push(buffer);\n",
              "            downloaded += buffer.byteLength;\n",
              "            progress.value = downloaded;\n",
              "          }\n",
              "        }\n",
              "      }\n",
              "      const blob = new Blob(buffers, {type: 'application/binary'});\n",
              "      const a = document.createElement('a');\n",
              "      a.href = window.URL.createObjectURL(blob);\n",
              "      a.download = filename;\n",
              "      div.appendChild(a);\n",
              "      a.click();\n",
              "      div.remove();\n",
              "    }\n",
              "  "
            ]
          },
          "metadata": {}
        },
        {
          "output_type": "display_data",
          "data": {
            "text/plain": [
              "<IPython.core.display.Javascript object>"
            ],
            "application/javascript": [
              "download(\"download_beb6c3a9-e664-4f83-9da7-9b868e343666\", \"cnn_scraped.xlsx\", 22259)"
            ]
          },
          "metadata": {}
        },
        {
          "output_type": "stream",
          "name": "stdout",
          "text": [
            "✅ Data berhasil diekspor & siap di-download!\n"
          ]
        },
        {
          "output_type": "display_data",
          "data": {
            "text/plain": [
              "                                               title           published_date  \\\n",
              "0  Menhut Buat Tim Percepatan Penetapan Hutan Ada...  Tanggal tidak ditemukan   \n",
              "1  Hasil Seleksi Awal Rekrutmen Damkar DKI Diumum...  Tanggal tidak ditemukan   \n",
              "2  KPU Beber Rahasiakan 16 Dokumen Capres-Cawapre...  Tanggal tidak ditemukan   \n",
              "3  Polda Metro Jaya Buka Posko Pengaduan Orang Hi...  Tanggal tidak ditemukan   \n",
              "4  Serabut Putih pada Lapisan Daging Jeruk, Amank...  Tanggal tidak ditemukan   \n",
              "\n",
              "                                         article_url  \\\n",
              "0  https://www.cnnindonesia.com/nasional/20250915...   \n",
              "1  https://www.cnnindonesia.com/nasional/20250915...   \n",
              "2  https://www.cnnindonesia.com/nasional/20250915...   \n",
              "3  https://www.cnnindonesia.com/nasional/20250915...   \n",
              "4  https://www.cnnindonesia.com/gaya-hidup/202509...   \n",
              "\n",
              "                                             content  source_page  \n",
              "0  Menteri Kehutanan (Menhut) RI Raja Juli Antoni...            1  \n",
              "1  Pemerintah Provinsi (Pemprov)DKI Jakartaakan m...            1  \n",
              "2  KetuaKPUMochammad Afifuddin mengungkap alasan ...            1  \n",
              "3  Polda Metro Jaya membuka posko pengaduanorang ...            1  \n",
              "4  Saat digigit, daging buahjerukterasa menyegark...            1  "
            ],
            "text/html": [
              "\n",
              "  <div id=\"df-2032c360-7b48-4a98-881c-ac9b4793d90a\" class=\"colab-df-container\">\n",
              "    <div>\n",
              "<style scoped>\n",
              "    .dataframe tbody tr th:only-of-type {\n",
              "        vertical-align: middle;\n",
              "    }\n",
              "\n",
              "    .dataframe tbody tr th {\n",
              "        vertical-align: top;\n",
              "    }\n",
              "\n",
              "    .dataframe thead th {\n",
              "        text-align: right;\n",
              "    }\n",
              "</style>\n",
              "<table border=\"1\" class=\"dataframe\">\n",
              "  <thead>\n",
              "    <tr style=\"text-align: right;\">\n",
              "      <th></th>\n",
              "      <th>title</th>\n",
              "      <th>published_date</th>\n",
              "      <th>article_url</th>\n",
              "      <th>content</th>\n",
              "      <th>source_page</th>\n",
              "    </tr>\n",
              "  </thead>\n",
              "  <tbody>\n",
              "    <tr>\n",
              "      <th>0</th>\n",
              "      <td>Menhut Buat Tim Percepatan Penetapan Hutan Ada...</td>\n",
              "      <td>Tanggal tidak ditemukan</td>\n",
              "      <td>https://www.cnnindonesia.com/nasional/20250915...</td>\n",
              "      <td>Menteri Kehutanan (Menhut) RI Raja Juli Antoni...</td>\n",
              "      <td>1</td>\n",
              "    </tr>\n",
              "    <tr>\n",
              "      <th>1</th>\n",
              "      <td>Hasil Seleksi Awal Rekrutmen Damkar DKI Diumum...</td>\n",
              "      <td>Tanggal tidak ditemukan</td>\n",
              "      <td>https://www.cnnindonesia.com/nasional/20250915...</td>\n",
              "      <td>Pemerintah Provinsi (Pemprov)DKI Jakartaakan m...</td>\n",
              "      <td>1</td>\n",
              "    </tr>\n",
              "    <tr>\n",
              "      <th>2</th>\n",
              "      <td>KPU Beber Rahasiakan 16 Dokumen Capres-Cawapre...</td>\n",
              "      <td>Tanggal tidak ditemukan</td>\n",
              "      <td>https://www.cnnindonesia.com/nasional/20250915...</td>\n",
              "      <td>KetuaKPUMochammad Afifuddin mengungkap alasan ...</td>\n",
              "      <td>1</td>\n",
              "    </tr>\n",
              "    <tr>\n",
              "      <th>3</th>\n",
              "      <td>Polda Metro Jaya Buka Posko Pengaduan Orang Hi...</td>\n",
              "      <td>Tanggal tidak ditemukan</td>\n",
              "      <td>https://www.cnnindonesia.com/nasional/20250915...</td>\n",
              "      <td>Polda Metro Jaya membuka posko pengaduanorang ...</td>\n",
              "      <td>1</td>\n",
              "    </tr>\n",
              "    <tr>\n",
              "      <th>4</th>\n",
              "      <td>Serabut Putih pada Lapisan Daging Jeruk, Amank...</td>\n",
              "      <td>Tanggal tidak ditemukan</td>\n",
              "      <td>https://www.cnnindonesia.com/gaya-hidup/202509...</td>\n",
              "      <td>Saat digigit, daging buahjerukterasa menyegark...</td>\n",
              "      <td>1</td>\n",
              "    </tr>\n",
              "  </tbody>\n",
              "</table>\n",
              "</div>\n",
              "    <div class=\"colab-df-buttons\">\n",
              "\n",
              "  <div class=\"colab-df-container\">\n",
              "    <button class=\"colab-df-convert\" onclick=\"convertToInteractive('df-2032c360-7b48-4a98-881c-ac9b4793d90a')\"\n",
              "            title=\"Convert this dataframe to an interactive table.\"\n",
              "            style=\"display:none;\">\n",
              "\n",
              "  <svg xmlns=\"http://www.w3.org/2000/svg\" height=\"24px\" viewBox=\"0 -960 960 960\">\n",
              "    <path d=\"M120-120v-720h720v720H120Zm60-500h600v-160H180v160Zm220 220h160v-160H400v160Zm0 220h160v-160H400v160ZM180-400h160v-160H180v160Zm440 0h160v-160H620v160ZM180-180h160v-160H180v160Zm440 0h160v-160H620v160Z\"/>\n",
              "  </svg>\n",
              "    </button>\n",
              "\n",
              "  <style>\n",
              "    .colab-df-container {\n",
              "      display:flex;\n",
              "      gap: 12px;\n",
              "    }\n",
              "\n",
              "    .colab-df-convert {\n",
              "      background-color: #E8F0FE;\n",
              "      border: none;\n",
              "      border-radius: 50%;\n",
              "      cursor: pointer;\n",
              "      display: none;\n",
              "      fill: #1967D2;\n",
              "      height: 32px;\n",
              "      padding: 0 0 0 0;\n",
              "      width: 32px;\n",
              "    }\n",
              "\n",
              "    .colab-df-convert:hover {\n",
              "      background-color: #E2EBFA;\n",
              "      box-shadow: 0px 1px 2px rgba(60, 64, 67, 0.3), 0px 1px 3px 1px rgba(60, 64, 67, 0.15);\n",
              "      fill: #174EA6;\n",
              "    }\n",
              "\n",
              "    .colab-df-buttons div {\n",
              "      margin-bottom: 4px;\n",
              "    }\n",
              "\n",
              "    [theme=dark] .colab-df-convert {\n",
              "      background-color: #3B4455;\n",
              "      fill: #D2E3FC;\n",
              "    }\n",
              "\n",
              "    [theme=dark] .colab-df-convert:hover {\n",
              "      background-color: #434B5C;\n",
              "      box-shadow: 0px 1px 3px 1px rgba(0, 0, 0, 0.15);\n",
              "      filter: drop-shadow(0px 1px 2px rgba(0, 0, 0, 0.3));\n",
              "      fill: #FFFFFF;\n",
              "    }\n",
              "  </style>\n",
              "\n",
              "    <script>\n",
              "      const buttonEl =\n",
              "        document.querySelector('#df-2032c360-7b48-4a98-881c-ac9b4793d90a button.colab-df-convert');\n",
              "      buttonEl.style.display =\n",
              "        google.colab.kernel.accessAllowed ? 'block' : 'none';\n",
              "\n",
              "      async function convertToInteractive(key) {\n",
              "        const element = document.querySelector('#df-2032c360-7b48-4a98-881c-ac9b4793d90a');\n",
              "        const dataTable =\n",
              "          await google.colab.kernel.invokeFunction('convertToInteractive',\n",
              "                                                    [key], {});\n",
              "        if (!dataTable) return;\n",
              "\n",
              "        const docLinkHtml = 'Like what you see? Visit the ' +\n",
              "          '<a target=\"_blank\" href=https://colab.research.google.com/notebooks/data_table.ipynb>data table notebook</a>'\n",
              "          + ' to learn more about interactive tables.';\n",
              "        element.innerHTML = '';\n",
              "        dataTable['output_type'] = 'display_data';\n",
              "        await google.colab.output.renderOutput(dataTable, element);\n",
              "        const docLink = document.createElement('div');\n",
              "        docLink.innerHTML = docLinkHtml;\n",
              "        element.appendChild(docLink);\n",
              "      }\n",
              "    </script>\n",
              "  </div>\n",
              "\n",
              "\n",
              "    <div id=\"df-ee179205-60af-4706-a353-ace6d0d5d61f\">\n",
              "      <button class=\"colab-df-quickchart\" onclick=\"quickchart('df-ee179205-60af-4706-a353-ace6d0d5d61f')\"\n",
              "                title=\"Suggest charts\"\n",
              "                style=\"display:none;\">\n",
              "\n",
              "<svg xmlns=\"http://www.w3.org/2000/svg\" height=\"24px\"viewBox=\"0 0 24 24\"\n",
              "     width=\"24px\">\n",
              "    <g>\n",
              "        <path d=\"M19 3H5c-1.1 0-2 .9-2 2v14c0 1.1.9 2 2 2h14c1.1 0 2-.9 2-2V5c0-1.1-.9-2-2-2zM9 17H7v-7h2v7zm4 0h-2V7h2v10zm4 0h-2v-4h2v4z\"/>\n",
              "    </g>\n",
              "</svg>\n",
              "      </button>\n",
              "\n",
              "<style>\n",
              "  .colab-df-quickchart {\n",
              "      --bg-color: #E8F0FE;\n",
              "      --fill-color: #1967D2;\n",
              "      --hover-bg-color: #E2EBFA;\n",
              "      --hover-fill-color: #174EA6;\n",
              "      --disabled-fill-color: #AAA;\n",
              "      --disabled-bg-color: #DDD;\n",
              "  }\n",
              "\n",
              "  [theme=dark] .colab-df-quickchart {\n",
              "      --bg-color: #3B4455;\n",
              "      --fill-color: #D2E3FC;\n",
              "      --hover-bg-color: #434B5C;\n",
              "      --hover-fill-color: #FFFFFF;\n",
              "      --disabled-bg-color: #3B4455;\n",
              "      --disabled-fill-color: #666;\n",
              "  }\n",
              "\n",
              "  .colab-df-quickchart {\n",
              "    background-color: var(--bg-color);\n",
              "    border: none;\n",
              "    border-radius: 50%;\n",
              "    cursor: pointer;\n",
              "    display: none;\n",
              "    fill: var(--fill-color);\n",
              "    height: 32px;\n",
              "    padding: 0;\n",
              "    width: 32px;\n",
              "  }\n",
              "\n",
              "  .colab-df-quickchart:hover {\n",
              "    background-color: var(--hover-bg-color);\n",
              "    box-shadow: 0 1px 2px rgba(60, 64, 67, 0.3), 0 1px 3px 1px rgba(60, 64, 67, 0.15);\n",
              "    fill: var(--button-hover-fill-color);\n",
              "  }\n",
              "\n",
              "  .colab-df-quickchart-complete:disabled,\n",
              "  .colab-df-quickchart-complete:disabled:hover {\n",
              "    background-color: var(--disabled-bg-color);\n",
              "    fill: var(--disabled-fill-color);\n",
              "    box-shadow: none;\n",
              "  }\n",
              "\n",
              "  .colab-df-spinner {\n",
              "    border: 2px solid var(--fill-color);\n",
              "    border-color: transparent;\n",
              "    border-bottom-color: var(--fill-color);\n",
              "    animation:\n",
              "      spin 1s steps(1) infinite;\n",
              "  }\n",
              "\n",
              "  @keyframes spin {\n",
              "    0% {\n",
              "      border-color: transparent;\n",
              "      border-bottom-color: var(--fill-color);\n",
              "      border-left-color: var(--fill-color);\n",
              "    }\n",
              "    20% {\n",
              "      border-color: transparent;\n",
              "      border-left-color: var(--fill-color);\n",
              "      border-top-color: var(--fill-color);\n",
              "    }\n",
              "    30% {\n",
              "      border-color: transparent;\n",
              "      border-left-color: var(--fill-color);\n",
              "      border-top-color: var(--fill-color);\n",
              "      border-right-color: var(--fill-color);\n",
              "    }\n",
              "    40% {\n",
              "      border-color: transparent;\n",
              "      border-right-color: var(--fill-color);\n",
              "      border-top-color: var(--fill-color);\n",
              "    }\n",
              "    60% {\n",
              "      border-color: transparent;\n",
              "      border-right-color: var(--fill-color);\n",
              "    }\n",
              "    80% {\n",
              "      border-color: transparent;\n",
              "      border-right-color: var(--fill-color);\n",
              "      border-bottom-color: var(--fill-color);\n",
              "    }\n",
              "    90% {\n",
              "      border-color: transparent;\n",
              "      border-bottom-color: var(--fill-color);\n",
              "    }\n",
              "  }\n",
              "</style>\n",
              "\n",
              "      <script>\n",
              "        async function quickchart(key) {\n",
              "          const quickchartButtonEl =\n",
              "            document.querySelector('#' + key + ' button');\n",
              "          quickchartButtonEl.disabled = true;  // To prevent multiple clicks.\n",
              "          quickchartButtonEl.classList.add('colab-df-spinner');\n",
              "          try {\n",
              "            const charts = await google.colab.kernel.invokeFunction(\n",
              "                'suggestCharts', [key], {});\n",
              "          } catch (error) {\n",
              "            console.error('Error during call to suggestCharts:', error);\n",
              "          }\n",
              "          quickchartButtonEl.classList.remove('colab-df-spinner');\n",
              "          quickchartButtonEl.classList.add('colab-df-quickchart-complete');\n",
              "        }\n",
              "        (() => {\n",
              "          let quickchartButtonEl =\n",
              "            document.querySelector('#df-ee179205-60af-4706-a353-ace6d0d5d61f button');\n",
              "          quickchartButtonEl.style.display =\n",
              "            google.colab.kernel.accessAllowed ? 'block' : 'none';\n",
              "        })();\n",
              "      </script>\n",
              "    </div>\n",
              "\n",
              "    </div>\n",
              "  </div>\n"
            ],
            "application/vnd.google.colaboratory.intrinsic+json": {
              "type": "dataframe",
              "summary": "{\n  \"name\": \"    print(\\\"\\u274c Tidak ada data yang berhasil di-scrape\",\n  \"rows\": 5,\n  \"fields\": [\n    {\n      \"column\": \"title\",\n      \"properties\": {\n        \"dtype\": \"string\",\n        \"num_unique_values\": 5,\n        \"samples\": [\n          \"Hasil Seleksi Awal Rekrutmen Damkar DKI Diumumkan Rabu Pekan Ini\",\n          \"Serabut Putih pada Lapisan Daging Jeruk, Amankah Dimakan?\",\n          \"KPU Beber Rahasiakan 16 Dokumen Capres-Cawapres Termasuk Ijazah\"\n        ],\n        \"semantic_type\": \"\",\n        \"description\": \"\"\n      }\n    },\n    {\n      \"column\": \"published_date\",\n      \"properties\": {\n        \"dtype\": \"category\",\n        \"num_unique_values\": 1,\n        \"samples\": [\n          \"Tanggal tidak ditemukan\"\n        ],\n        \"semantic_type\": \"\",\n        \"description\": \"\"\n      }\n    },\n    {\n      \"column\": \"article_url\",\n      \"properties\": {\n        \"dtype\": \"string\",\n        \"num_unique_values\": 5,\n        \"samples\": [\n          \"https://www.cnnindonesia.com/nasional/20250915135752-20-1273852/hasil-seleksi-awal-rekrutmen-damkar-dki-diumumkan-rabu-pekan-ini\"\n        ],\n        \"semantic_type\": \"\",\n        \"description\": \"\"\n      }\n    },\n    {\n      \"column\": \"content\",\n      \"properties\": {\n        \"dtype\": \"string\",\n        \"num_unique_values\": 5,\n        \"samples\": [\n          \"Pemerintah Provinsi (Pemprov)DKI Jakartaakan mengumumkan hasil seleksi awal lowongan anggota Dinas Penanggulangan Kebakaran dan Penyelamatan (Gulkarmat) pada Rabu (17/9) pekan ini. \\\"Seleksi awal akan diumumkan penetapan nama-nama seribu orang dalam rekrutmen petugas damkar pada hari Rabu. Nanti akan dilaporkan oleh Pak Kepala Dinas dan kemudian saya setujui,\\\" ujar Gubernur DKI Jakarta Pramono Anung Wibowo di Kantor Dinas Penanggulangan Kebakaran dan Penyelamatan (Gulkarmat) DKI Jakarta, Jakarta Pusat, Senin (15/9) seperti dikutip dariAntara.  ADVERTISEMENT SCROLL TO CONTINUE WITH CONTENT Sebelumnya, Pramono sempat mengumumkan sebanyak 17 persen pelamar rekrutmen anggota Damkar memenuhi persyaratan administrasi. Pada perekrutan yang digelar 12 hingga 14 Agustus lalu, total masyarakat yang mendaftar sebanyak 24.405 orang. Adapun total jumlah kuota anggota Damkar yang dibuka Pemprov DKI Jakarta sebanyak 1000 orang yang akan ditempatkan di seluruh wilayah Jakarta. Berikut tahapan jadwal rekrutmen anggota Damkar Jakarta 2025: 1. 11 Agustus 2025 Pengumuman penerimaan seleksi PJLP petugas pemadam Jakarta melalui portal Pemprov DKI Jakarta. 2. 12 - 14 Agustus 2025 Pendaftaran dan penginputan/unggah dokumen administrasi (online). 3. 15 Agustus 2025 Pengumuman hasil evaluasi administrasi dan jadwal pembuktian dokumen administrasi dan kualifikasi, pengukuran tinggi badan, tato dan tindik. 4. 19-22 Agustus 2025 Pembuktian dokumen administrasi dan kualifikasi, pengukuran tinggi badan, tato, dan tindik. 5. 25 Agustus 2025 Pengumuman pembuktian dokumen administrasi dan kualifikasi, pengukuran tinggi badan, tato, dan tindik.  6. 25 Agustus 2025 Jadwal pelaksanaan tes fisik (kesegaran jasmani). 7. 26 Agustus - 12 September 2025 tes fisik (kesegaran jasmani) di Brigif 1/Jaya Sakti, Kalisari, Jakarta Timur. 8. 16 September 2025 Pengumuman hasil tes fisik. 9. 18 September 2025 Penetapan hasil seleksi PJLP Damkar (online).  10. 25-26 September 2025 Pembukaan dan penginputan dokumen penawaran. 11. 19-30 September 2025 Proses pengadaan langsung calon PJLP. 12. 1 Oktober 2025 Penandatanganan kontrak kerja. \"\n        ],\n        \"semantic_type\": \"\",\n        \"description\": \"\"\n      }\n    },\n    {\n      \"column\": \"source_page\",\n      \"properties\": {\n        \"dtype\": \"number\",\n        \"std\": 0,\n        \"min\": 1,\n        \"max\": 1,\n        \"num_unique_values\": 1,\n        \"samples\": [\n          1\n        ],\n        \"semantic_type\": \"\",\n        \"description\": \"\"\n      }\n    }\n  ]\n}"
            }
          },
          "metadata": {}
        }
      ]
    }
  ],
  "metadata": {
    "colab": {
      "provenance": [],
      "include_colab_link": true
    },
    "kernelspec": {
      "display_name": "Python 3",
      "name": "python3"
    }
  },
  "nbformat": 4,
  "nbformat_minor": 0
}