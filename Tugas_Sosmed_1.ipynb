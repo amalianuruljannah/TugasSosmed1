{
  "cells": [
    {
      "cell_type": "markdown",
      "metadata": {
        "id": "view-in-github",
        "colab_type": "text"
      },
      "source": [
        "<a href=\"https://colab.research.google.com/github/amalianuruljannah/TugasSosmed1/blob/main/Tugas_Sosmed_1.ipynb\" target=\"_parent\"><img src=\"https://colab.research.google.com/assets/colab-badge.svg\" alt=\"Open In Colab\"/></a>"
      ]
    },
    {
      "cell_type": "code",
      "source": [
        "# --- Install library tambahan (jika perlu) ---\n",
        "!pip install tqdm openpyxl\n",
        "\n",
        "import requests\n",
        "from bs4 import BeautifulSoup\n",
        "import pandas as pd\n",
        "import time\n",
        "import json\n",
        "from tqdm import tqdm\n",
        "from google.colab import files  # untuk download otomatis\n",
        "\n",
        "# HEADERS untuk menyamar sebagai browser\n",
        "HEADERS = {\n",
        "    'User-Agent': 'Mozilla/5.0 (Windows NT 10.0; Win64; x64) AppleWebKit/537.36 (KHTML, like Gecko) Chrome/91.0.4472.124 Safari/537.36'\n",
        "}\n",
        "\n",
        "# --- Scraping detail artikel ---\n",
        "def scrape_article_detail(url):\n",
        "    try:\n",
        "        response = requests.get(url, headers=HEADERS, timeout=10)\n",
        "        if response.status_code != 200:\n",
        "            return None\n",
        "\n",
        "        soup = BeautifulSoup(response.text, 'html.parser')\n",
        "\n",
        "        # Isi artikel\n",
        "        content_div = soup.find('div', class_='detail-text')\n",
        "        if not content_div:\n",
        "            return None\n",
        "\n",
        "        paragraphs = content_div.find_all('p')\n",
        "        full_content = ' '.join([p.get_text(strip=True) for p in paragraphs])\n",
        "\n",
        "        # Penulis\n",
        "        author_elem = soup.find('span', class_='author')\n",
        "        author = author_elem.get_text(strip=True) if author_elem else 'N/A'\n",
        "\n",
        "        # Tanggal\n",
        "        date_elem = soup.find('div', class_='date')\n",
        "        published_date = date_elem.get_text(strip=True) if date_elem else 'N/A'\n",
        "\n",
        "        return {\n",
        "            'author': author,\n",
        "            'published_date': published_date,\n",
        "            'content': full_content\n",
        "        }\n",
        "    except Exception as e:\n",
        "        print(\"Error detail:\", e)\n",
        "        return None\n",
        "\n",
        "# --- Scraping daftar artikel ---\n",
        "def scrape_cnn_indeks(total_pages=2):\n",
        "    all_articles = []\n",
        "    base_url = 'https://www.cnnindonesia.com/indeks'\n",
        "\n",
        "    for page in range(1, total_pages + 1):\n",
        "        index_url = f\"{base_url}?page={page}\" if page > 1 else base_url\n",
        "        response = requests.get(index_url, headers=HEADERS, timeout=10)\n",
        "        if response.status_code != 200:\n",
        "            continue\n",
        "\n",
        "        soup = BeautifulSoup(response.text, 'html.parser')\n",
        "        articles_on_page = soup.find_all('article')\n",
        "\n",
        "        for article_tag in tqdm(articles_on_page, desc=f\"Scraping Halaman {page}\"):\n",
        "            link_tag = article_tag.find('a')\n",
        "            if not link_tag or not link_tag.has_attr('href'):\n",
        "                continue\n",
        "            article_url = link_tag['href']\n",
        "\n",
        "            title_tag = article_tag.find('h2')\n",
        "            title = title_tag.get_text(strip=True) if title_tag else 'N/A'\n",
        "\n",
        "            category_tag = article_tag.find('span', class_='kanal')\n",
        "            category = category_tag.get_text(strip=True) if category_tag else 'N/A'\n",
        "\n",
        "            detail_data = scrape_article_detail(article_url)\n",
        "\n",
        "            if detail_data:\n",
        "                article_data = {\n",
        "                    'title': title,\n",
        "                    'category': category,\n",
        "                    'published_date': detail_data['published_date'],\n",
        "                    'author': detail_data['author'],\n",
        "                    'article_url': article_url,\n",
        "                    'content': detail_data['content'],\n",
        "                    'source_page': page\n",
        "                }\n",
        "                all_articles.append(article_data)\n",
        "\n",
        "            time.sleep(0.5)\n",
        "\n",
        "    return all_articles\n",
        "\n",
        "# --- Eksekusi ---\n",
        "scraped_data = scrape_cnn_indeks(total_pages=2)\n",
        "\n",
        "if scraped_data:\n",
        "    df = pd.DataFrame(scraped_data)\n",
        "\n",
        "    # Simpan CSV\n",
        "    csv_filename = 'cnn_scraped.csv'\n",
        "    df.to_csv(csv_filename, index=False, encoding='utf-8-sig')\n",
        "    files.download(csv_filename)\n",
        "\n",
        "    # Simpan JSON\n",
        "    json_filename = 'cnn_scraped.json'\n",
        "    with open(json_filename, \"w\", encoding=\"utf-8\") as f:\n",
        "        json.dump(scraped_data, f, ensure_ascii=False, indent=4)\n",
        "    files.download(json_filename)\n",
        "\n",
        "    # Simpan XLSX\n",
        "    xlsx_filename = 'cnn_scraped.xlsx'\n",
        "    df.to_excel(xlsx_filename, index=False)\n",
        "    files.download(xlsx_filename)\n",
        "\n",
        "    print(\"✅ Data berhasil diekspor & siap di-download!\")\n",
        "    display(df.head())\n",
        "else:\n",
        "    print(\"❌ Tidak ada data yang berhasil di-scrape.\")\n"
      ],
      "metadata": {
        "colab": {
          "base_uri": "https://localhost:8080/",
          "height": 1000
        },
        "id": "yLdDYi6ukRNu",
        "outputId": "e3376f72-b11c-43da-ed36-08582d3513d7"
      },
      "execution_count": null,
      "outputs": [
        {
          "output_type": "stream",
          "name": "stdout",
          "text": [
            "Requirement already satisfied: tqdm in /usr/local/lib/python3.12/dist-packages (4.67.1)\n",
            "Requirement already satisfied: openpyxl in /usr/local/lib/python3.12/dist-packages (3.1.5)\n",
            "Requirement already satisfied: et-xmlfile in /usr/local/lib/python3.12/dist-packages (from openpyxl) (2.0.0)\n"
          ]
        },
        {
          "output_type": "stream",
          "name": "stderr",
          "text": [
            "\rScraping Halaman 1:   0%|          | 0/34 [00:00<?, ?it/s]"
          ]
        },
        {
          "output_type": "stream",
          "name": "stdout",
          "text": [
            "Error detail: Invalid URL '#': No scheme supplied. Perhaps you meant https://#?\n"
          ]
        },
        {
          "output_type": "stream",
          "name": "stderr",
          "text": [
            "\rScraping Halaman 1:   3%|▎         | 1/34 [00:00<00:16,  2.00it/s]"
          ]
        },
        {
          "output_type": "stream",
          "name": "stdout",
          "text": [
            "Error detail: Invalid URL '#': No scheme supplied. Perhaps you meant https://#?\n"
          ]
        },
        {
          "output_type": "stream",
          "name": "stderr",
          "text": [
            "\rScraping Halaman 1:   6%|▌         | 2/34 [00:01<00:16,  1.99it/s]"
          ]
        },
        {
          "output_type": "stream",
          "name": "stdout",
          "text": [
            "Error detail: Invalid URL '#': No scheme supplied. Perhaps you meant https://#?\n"
          ]
        },
        {
          "output_type": "stream",
          "name": "stderr",
          "text": [
            "\rScraping Halaman 1:   9%|▉         | 3/34 [00:01<00:15,  1.99it/s]"
          ]
        },
        {
          "output_type": "stream",
          "name": "stdout",
          "text": [
            "Error detail: Invalid URL '#': No scheme supplied. Perhaps you meant https://#?\n"
          ]
        },
        {
          "output_type": "stream",
          "name": "stderr",
          "text": [
            "\rScraping Halaman 1:  12%|█▏        | 4/34 [00:02<00:15,  1.99it/s]"
          ]
        },
        {
          "output_type": "stream",
          "name": "stdout",
          "text": [
            "Error detail: Invalid URL '#': No scheme supplied. Perhaps you meant https://#?\n"
          ]
        },
        {
          "output_type": "stream",
          "name": "stderr",
          "text": [
            "\rScraping Halaman 1:  15%|█▍        | 5/34 [00:02<00:14,  1.99it/s]"
          ]
        },
        {
          "output_type": "stream",
          "name": "stdout",
          "text": [
            "Error detail: Invalid URL '#': No scheme supplied. Perhaps you meant https://#?\n"
          ]
        },
        {
          "output_type": "stream",
          "name": "stderr",
          "text": [
            "\rScraping Halaman 1:  18%|█▊        | 6/34 [00:03<00:14,  1.99it/s]"
          ]
        },
        {
          "output_type": "stream",
          "name": "stdout",
          "text": [
            "Error detail: Invalid URL '#': No scheme supplied. Perhaps you meant https://#?\n"
          ]
        },
        {
          "output_type": "stream",
          "name": "stderr",
          "text": [
            "\rScraping Halaman 1:  21%|██        | 7/34 [00:03<00:13,  1.99it/s]"
          ]
        },
        {
          "output_type": "stream",
          "name": "stdout",
          "text": [
            "Error detail: Invalid URL '#': No scheme supplied. Perhaps you meant https://#?\n"
          ]
        },
        {
          "output_type": "stream",
          "name": "stderr",
          "text": [
            "\rScraping Halaman 1:  24%|██▎       | 8/34 [00:04<00:13,  1.99it/s]"
          ]
        },
        {
          "output_type": "stream",
          "name": "stdout",
          "text": [
            "Error detail: Invalid URL '#': No scheme supplied. Perhaps you meant https://#?\n"
          ]
        },
        {
          "output_type": "stream",
          "name": "stderr",
          "text": [
            "\rScraping Halaman 1:  26%|██▋       | 9/34 [00:04<00:12,  1.99it/s]"
          ]
        },
        {
          "output_type": "stream",
          "name": "stdout",
          "text": [
            "Error detail: Invalid URL '#': No scheme supplied. Perhaps you meant https://#?\n"
          ]
        },
        {
          "output_type": "stream",
          "name": "stderr",
          "text": [
            "\rScraping Halaman 1:  29%|██▉       | 10/34 [00:05<00:12,  1.99it/s]"
          ]
        },
        {
          "output_type": "stream",
          "name": "stdout",
          "text": [
            "Error detail: Invalid URL '#': No scheme supplied. Perhaps you meant https://#?\n"
          ]
        },
        {
          "output_type": "stream",
          "name": "stderr",
          "text": [
            "\rScraping Halaman 1:  32%|███▏      | 11/34 [00:05<00:11,  1.99it/s]"
          ]
        },
        {
          "output_type": "stream",
          "name": "stdout",
          "text": [
            "Error detail: Invalid URL '#': No scheme supplied. Perhaps you meant https://#?\n"
          ]
        },
        {
          "output_type": "stream",
          "name": "stderr",
          "text": [
            "\rScraping Halaman 1:  35%|███▌      | 12/34 [00:06<00:11,  1.99it/s]"
          ]
        },
        {
          "output_type": "stream",
          "name": "stdout",
          "text": [
            "Error detail: Invalid URL '#': No scheme supplied. Perhaps you meant https://#?\n"
          ]
        },
        {
          "output_type": "stream",
          "name": "stderr",
          "text": [
            "\rScraping Halaman 1:  38%|███▊      | 13/34 [00:06<00:10,  1.99it/s]"
          ]
        },
        {
          "output_type": "stream",
          "name": "stdout",
          "text": [
            "Error detail: Invalid URL '#': No scheme supplied. Perhaps you meant https://#?\n"
          ]
        },
        {
          "output_type": "stream",
          "name": "stderr",
          "text": [
            "\rScraping Halaman 1:  41%|████      | 14/34 [00:07<00:10,  1.99it/s]"
          ]
        },
        {
          "output_type": "stream",
          "name": "stdout",
          "text": [
            "Error detail: Invalid URL '#': No scheme supplied. Perhaps you meant https://#?\n"
          ]
        },
        {
          "output_type": "stream",
          "name": "stderr",
          "text": [
            "\rScraping Halaman 1:  44%|████▍     | 15/34 [00:07<00:09,  1.99it/s]"
          ]
        },
        {
          "output_type": "stream",
          "name": "stdout",
          "text": [
            "Error detail: Invalid URL '#': No scheme supplied. Perhaps you meant https://#?\n"
          ]
        },
        {
          "output_type": "stream",
          "name": "stderr",
          "text": [
            "\rScraping Halaman 1:  47%|████▋     | 16/34 [00:08<00:09,  1.99it/s]"
          ]
        },
        {
          "output_type": "stream",
          "name": "stdout",
          "text": [
            "Error detail: Invalid URL '#': No scheme supplied. Perhaps you meant https://#?\n"
          ]
        },
        {
          "output_type": "stream",
          "name": "stderr",
          "text": [
            "\rScraping Halaman 1:  50%|█████     | 17/34 [00:08<00:08,  1.99it/s]"
          ]
        },
        {
          "output_type": "stream",
          "name": "stdout",
          "text": [
            "Error detail: Invalid URL '#': No scheme supplied. Perhaps you meant https://#?\n"
          ]
        },
        {
          "output_type": "stream",
          "name": "stderr",
          "text": [
            "\rScraping Halaman 1:  53%|█████▎    | 18/34 [00:09<00:08,  1.99it/s]"
          ]
        },
        {
          "output_type": "stream",
          "name": "stdout",
          "text": [
            "Error detail: Invalid URL '#': No scheme supplied. Perhaps you meant https://#?\n"
          ]
        },
        {
          "output_type": "stream",
          "name": "stderr",
          "text": [
            "\rScraping Halaman 1:  56%|█████▌    | 19/34 [00:09<00:07,  1.99it/s]"
          ]
        },
        {
          "output_type": "stream",
          "name": "stdout",
          "text": [
            "Error detail: Invalid URL '#': No scheme supplied. Perhaps you meant https://#?\n"
          ]
        },
        {
          "output_type": "stream",
          "name": "stderr",
          "text": [
            "\rScraping Halaman 1:  59%|█████▉    | 20/34 [00:10<00:07,  1.99it/s]"
          ]
        },
        {
          "output_type": "stream",
          "name": "stdout",
          "text": [
            "Error detail: Invalid URL '#': No scheme supplied. Perhaps you meant https://#?\n"
          ]
        },
        {
          "output_type": "stream",
          "name": "stderr",
          "text": [
            "\rScraping Halaman 1:  62%|██████▏   | 21/34 [00:10<00:06,  1.99it/s]"
          ]
        },
        {
          "output_type": "stream",
          "name": "stdout",
          "text": [
            "Error detail: Invalid URL '#': No scheme supplied. Perhaps you meant https://#?\n"
          ]
        },
        {
          "output_type": "stream",
          "name": "stderr",
          "text": [
            "\rScraping Halaman 1:  65%|██████▍   | 22/34 [00:11<00:06,  1.99it/s]"
          ]
        },
        {
          "output_type": "stream",
          "name": "stdout",
          "text": [
            "Error detail: Invalid URL '#': No scheme supplied. Perhaps you meant https://#?\n"
          ]
        },
        {
          "output_type": "stream",
          "name": "stderr",
          "text": [
            "\rScraping Halaman 1:  68%|██████▊   | 23/34 [00:11<00:05,  1.99it/s]"
          ]
        },
        {
          "output_type": "stream",
          "name": "stdout",
          "text": [
            "Error detail: Invalid URL '#': No scheme supplied. Perhaps you meant https://#?\n"
          ]
        },
        {
          "output_type": "stream",
          "name": "stderr",
          "text": [
            "Scraping Halaman 1: 100%|██████████| 34/34 [00:22<00:00,  1.48it/s]\n",
            "Scraping Halaman 2:   0%|          | 0/34 [00:00<?, ?it/s]"
          ]
        },
        {
          "output_type": "stream",
          "name": "stdout",
          "text": [
            "Error detail: Invalid URL '#': No scheme supplied. Perhaps you meant https://#?\n"
          ]
        },
        {
          "output_type": "stream",
          "name": "stderr",
          "text": [
            "\rScraping Halaman 2:   3%|▎         | 1/34 [00:00<00:16,  2.00it/s]"
          ]
        },
        {
          "output_type": "stream",
          "name": "stdout",
          "text": [
            "Error detail: Invalid URL '#': No scheme supplied. Perhaps you meant https://#?\n"
          ]
        },
        {
          "output_type": "stream",
          "name": "stderr",
          "text": [
            "\rScraping Halaman 2:   6%|▌         | 2/34 [00:01<00:16,  1.99it/s]"
          ]
        },
        {
          "output_type": "stream",
          "name": "stdout",
          "text": [
            "Error detail: Invalid URL '#': No scheme supplied. Perhaps you meant https://#?\n"
          ]
        },
        {
          "output_type": "stream",
          "name": "stderr",
          "text": [
            "\rScraping Halaman 2:   9%|▉         | 3/34 [00:01<00:15,  1.99it/s]"
          ]
        },
        {
          "output_type": "stream",
          "name": "stdout",
          "text": [
            "Error detail: Invalid URL '#': No scheme supplied. Perhaps you meant https://#?\n"
          ]
        },
        {
          "output_type": "stream",
          "name": "stderr",
          "text": [
            "\rScraping Halaman 2:  12%|█▏        | 4/34 [00:02<00:15,  1.99it/s]"
          ]
        },
        {
          "output_type": "stream",
          "name": "stdout",
          "text": [
            "Error detail: Invalid URL '#': No scheme supplied. Perhaps you meant https://#?\n"
          ]
        },
        {
          "output_type": "stream",
          "name": "stderr",
          "text": [
            "\rScraping Halaman 2:  15%|█▍        | 5/34 [00:02<00:14,  1.99it/s]"
          ]
        },
        {
          "output_type": "stream",
          "name": "stdout",
          "text": [
            "Error detail: Invalid URL '#': No scheme supplied. Perhaps you meant https://#?\n"
          ]
        },
        {
          "output_type": "stream",
          "name": "stderr",
          "text": [
            "\rScraping Halaman 2:  18%|█▊        | 6/34 [00:03<00:14,  1.99it/s]"
          ]
        },
        {
          "output_type": "stream",
          "name": "stdout",
          "text": [
            "Error detail: Invalid URL '#': No scheme supplied. Perhaps you meant https://#?\n"
          ]
        },
        {
          "output_type": "stream",
          "name": "stderr",
          "text": [
            "\rScraping Halaman 2:  21%|██        | 7/34 [00:03<00:13,  1.99it/s]"
          ]
        },
        {
          "output_type": "stream",
          "name": "stdout",
          "text": [
            "Error detail: Invalid URL '#': No scheme supplied. Perhaps you meant https://#?\n"
          ]
        },
        {
          "output_type": "stream",
          "name": "stderr",
          "text": [
            "\rScraping Halaman 2:  24%|██▎       | 8/34 [00:04<00:13,  1.99it/s]"
          ]
        },
        {
          "output_type": "stream",
          "name": "stdout",
          "text": [
            "Error detail: Invalid URL '#': No scheme supplied. Perhaps you meant https://#?\n"
          ]
        },
        {
          "output_type": "stream",
          "name": "stderr",
          "text": [
            "\rScraping Halaman 2:  26%|██▋       | 9/34 [00:04<00:12,  1.99it/s]"
          ]
        },
        {
          "output_type": "stream",
          "name": "stdout",
          "text": [
            "Error detail: Invalid URL '#': No scheme supplied. Perhaps you meant https://#?\n"
          ]
        },
        {
          "output_type": "stream",
          "name": "stderr",
          "text": [
            "\rScraping Halaman 2:  29%|██▉       | 10/34 [00:05<00:12,  1.99it/s]"
          ]
        },
        {
          "output_type": "stream",
          "name": "stdout",
          "text": [
            "Error detail: Invalid URL '#': No scheme supplied. Perhaps you meant https://#?\n"
          ]
        },
        {
          "output_type": "stream",
          "name": "stderr",
          "text": [
            "\rScraping Halaman 2:  32%|███▏      | 11/34 [00:05<00:11,  1.99it/s]"
          ]
        },
        {
          "output_type": "stream",
          "name": "stdout",
          "text": [
            "Error detail: Invalid URL '#': No scheme supplied. Perhaps you meant https://#?\n"
          ]
        },
        {
          "output_type": "stream",
          "name": "stderr",
          "text": [
            "\rScraping Halaman 2:  35%|███▌      | 12/34 [00:06<00:11,  1.99it/s]"
          ]
        },
        {
          "output_type": "stream",
          "name": "stdout",
          "text": [
            "Error detail: Invalid URL '#': No scheme supplied. Perhaps you meant https://#?\n"
          ]
        },
        {
          "output_type": "stream",
          "name": "stderr",
          "text": [
            "\rScraping Halaman 2:  38%|███▊      | 13/34 [00:06<00:10,  1.99it/s]"
          ]
        },
        {
          "output_type": "stream",
          "name": "stdout",
          "text": [
            "Error detail: Invalid URL '#': No scheme supplied. Perhaps you meant https://#?\n"
          ]
        },
        {
          "output_type": "stream",
          "name": "stderr",
          "text": [
            "\rScraping Halaman 2:  41%|████      | 14/34 [00:07<00:10,  1.99it/s]"
          ]
        },
        {
          "output_type": "stream",
          "name": "stdout",
          "text": [
            "Error detail: Invalid URL '#': No scheme supplied. Perhaps you meant https://#?\n"
          ]
        },
        {
          "output_type": "stream",
          "name": "stderr",
          "text": [
            "\rScraping Halaman 2:  44%|████▍     | 15/34 [00:07<00:09,  1.99it/s]"
          ]
        },
        {
          "output_type": "stream",
          "name": "stdout",
          "text": [
            "Error detail: Invalid URL '#': No scheme supplied. Perhaps you meant https://#?\n"
          ]
        },
        {
          "output_type": "stream",
          "name": "stderr",
          "text": [
            "\rScraping Halaman 2:  47%|████▋     | 16/34 [00:08<00:09,  1.99it/s]"
          ]
        },
        {
          "output_type": "stream",
          "name": "stdout",
          "text": [
            "Error detail: Invalid URL '#': No scheme supplied. Perhaps you meant https://#?\n"
          ]
        },
        {
          "output_type": "stream",
          "name": "stderr",
          "text": [
            "\rScraping Halaman 2:  50%|█████     | 17/34 [00:08<00:08,  1.99it/s]"
          ]
        },
        {
          "output_type": "stream",
          "name": "stdout",
          "text": [
            "Error detail: Invalid URL '#': No scheme supplied. Perhaps you meant https://#?\n"
          ]
        },
        {
          "output_type": "stream",
          "name": "stderr",
          "text": [
            "\rScraping Halaman 2:  53%|█████▎    | 18/34 [00:09<00:08,  1.99it/s]"
          ]
        },
        {
          "output_type": "stream",
          "name": "stdout",
          "text": [
            "Error detail: Invalid URL '#': No scheme supplied. Perhaps you meant https://#?\n"
          ]
        },
        {
          "output_type": "stream",
          "name": "stderr",
          "text": [
            "\rScraping Halaman 2:  56%|█████▌    | 19/34 [00:09<00:07,  1.99it/s]"
          ]
        },
        {
          "output_type": "stream",
          "name": "stdout",
          "text": [
            "Error detail: Invalid URL '#': No scheme supplied. Perhaps you meant https://#?\n"
          ]
        },
        {
          "output_type": "stream",
          "name": "stderr",
          "text": [
            "\rScraping Halaman 2:  59%|█████▉    | 20/34 [00:10<00:07,  1.99it/s]"
          ]
        },
        {
          "output_type": "stream",
          "name": "stdout",
          "text": [
            "Error detail: Invalid URL '#': No scheme supplied. Perhaps you meant https://#?\n"
          ]
        },
        {
          "output_type": "stream",
          "name": "stderr",
          "text": [
            "\rScraping Halaman 2:  62%|██████▏   | 21/34 [00:10<00:06,  1.99it/s]"
          ]
        },
        {
          "output_type": "stream",
          "name": "stdout",
          "text": [
            "Error detail: Invalid URL '#': No scheme supplied. Perhaps you meant https://#?\n"
          ]
        },
        {
          "output_type": "stream",
          "name": "stderr",
          "text": [
            "\rScraping Halaman 2:  65%|██████▍   | 22/34 [00:11<00:06,  1.99it/s]"
          ]
        },
        {
          "output_type": "stream",
          "name": "stdout",
          "text": [
            "Error detail: Invalid URL '#': No scheme supplied. Perhaps you meant https://#?\n"
          ]
        },
        {
          "output_type": "stream",
          "name": "stderr",
          "text": [
            "\rScraping Halaman 2:  68%|██████▊   | 23/34 [00:11<00:05,  1.99it/s]"
          ]
        },
        {
          "output_type": "stream",
          "name": "stdout",
          "text": [
            "Error detail: Invalid URL '#': No scheme supplied. Perhaps you meant https://#?\n"
          ]
        },
        {
          "output_type": "stream",
          "name": "stderr",
          "text": [
            "Scraping Halaman 2: 100%|██████████| 34/34 [00:21<00:00,  1.58it/s]\n"
          ]
        },
        {
          "output_type": "display_data",
          "data": {
            "text/plain": [
              "<IPython.core.display.Javascript object>"
            ],
            "application/javascript": [
              "\n",
              "    async function download(id, filename, size) {\n",
              "      if (!google.colab.kernel.accessAllowed) {\n",
              "        return;\n",
              "      }\n",
              "      const div = document.createElement('div');\n",
              "      const label = document.createElement('label');\n",
              "      label.textContent = `Downloading \"${filename}\": `;\n",
              "      div.appendChild(label);\n",
              "      const progress = document.createElement('progress');\n",
              "      progress.max = size;\n",
              "      div.appendChild(progress);\n",
              "      document.body.appendChild(div);\n",
              "\n",
              "      const buffers = [];\n",
              "      let downloaded = 0;\n",
              "\n",
              "      const channel = await google.colab.kernel.comms.open(id);\n",
              "      // Send a message to notify the kernel that we're ready.\n",
              "      channel.send({})\n",
              "\n",
              "      for await (const message of channel.messages) {\n",
              "        // Send a message to notify the kernel that we're ready.\n",
              "        channel.send({})\n",
              "        if (message.buffers) {\n",
              "          for (const buffer of message.buffers) {\n",
              "            buffers.push(buffer);\n",
              "            downloaded += buffer.byteLength;\n",
              "            progress.value = downloaded;\n",
              "          }\n",
              "        }\n",
              "      }\n",
              "      const blob = new Blob(buffers, {type: 'application/binary'});\n",
              "      const a = document.createElement('a');\n",
              "      a.href = window.URL.createObjectURL(blob);\n",
              "      a.download = filename;\n",
              "      div.appendChild(a);\n",
              "      a.click();\n",
              "      div.remove();\n",
              "    }\n",
              "  "
            ]
          },
          "metadata": {}
        },
        {
          "output_type": "display_data",
          "data": {
            "text/plain": [
              "<IPython.core.display.Javascript object>"
            ],
            "application/javascript": [
              "download(\"download_ad5c0449-afcb-4862-bf3d-c62d6fc153c8\", \"cnn_scraped.csv\", 45101)"
            ]
          },
          "metadata": {}
        },
        {
          "output_type": "display_data",
          "data": {
            "text/plain": [
              "<IPython.core.display.Javascript object>"
            ],
            "application/javascript": [
              "\n",
              "    async function download(id, filename, size) {\n",
              "      if (!google.colab.kernel.accessAllowed) {\n",
              "        return;\n",
              "      }\n",
              "      const div = document.createElement('div');\n",
              "      const label = document.createElement('label');\n",
              "      label.textContent = `Downloading \"${filename}\": `;\n",
              "      div.appendChild(label);\n",
              "      const progress = document.createElement('progress');\n",
              "      progress.max = size;\n",
              "      div.appendChild(progress);\n",
              "      document.body.appendChild(div);\n",
              "\n",
              "      const buffers = [];\n",
              "      let downloaded = 0;\n",
              "\n",
              "      const channel = await google.colab.kernel.comms.open(id);\n",
              "      // Send a message to notify the kernel that we're ready.\n",
              "      channel.send({})\n",
              "\n",
              "      for await (const message of channel.messages) {\n",
              "        // Send a message to notify the kernel that we're ready.\n",
              "        channel.send({})\n",
              "        if (message.buffers) {\n",
              "          for (const buffer of message.buffers) {\n",
              "            buffers.push(buffer);\n",
              "            downloaded += buffer.byteLength;\n",
              "            progress.value = downloaded;\n",
              "          }\n",
              "        }\n",
              "      }\n",
              "      const blob = new Blob(buffers, {type: 'application/binary'});\n",
              "      const a = document.createElement('a');\n",
              "      a.href = window.URL.createObjectURL(blob);\n",
              "      a.download = filename;\n",
              "      div.appendChild(a);\n",
              "      a.click();\n",
              "      div.remove();\n",
              "    }\n",
              "  "
            ]
          },
          "metadata": {}
        },
        {
          "output_type": "display_data",
          "data": {
            "text/plain": [
              "<IPython.core.display.Javascript object>"
            ],
            "application/javascript": [
              "download(\"download_97640b71-bd4d-4a52-ad1b-67189c144e06\", \"cnn_scraped.json\", 48527)"
            ]
          },
          "metadata": {}
        },
        {
          "output_type": "display_data",
          "data": {
            "text/plain": [
              "<IPython.core.display.Javascript object>"
            ],
            "application/javascript": [
              "\n",
              "    async function download(id, filename, size) {\n",
              "      if (!google.colab.kernel.accessAllowed) {\n",
              "        return;\n",
              "      }\n",
              "      const div = document.createElement('div');\n",
              "      const label = document.createElement('label');\n",
              "      label.textContent = `Downloading \"${filename}\": `;\n",
              "      div.appendChild(label);\n",
              "      const progress = document.createElement('progress');\n",
              "      progress.max = size;\n",
              "      div.appendChild(progress);\n",
              "      document.body.appendChild(div);\n",
              "\n",
              "      const buffers = [];\n",
              "      let downloaded = 0;\n",
              "\n",
              "      const channel = await google.colab.kernel.comms.open(id);\n",
              "      // Send a message to notify the kernel that we're ready.\n",
              "      channel.send({})\n",
              "\n",
              "      for await (const message of channel.messages) {\n",
              "        // Send a message to notify the kernel that we're ready.\n",
              "        channel.send({})\n",
              "        if (message.buffers) {\n",
              "          for (const buffer of message.buffers) {\n",
              "            buffers.push(buffer);\n",
              "            downloaded += buffer.byteLength;\n",
              "            progress.value = downloaded;\n",
              "          }\n",
              "        }\n",
              "      }\n",
              "      const blob = new Blob(buffers, {type: 'application/binary'});\n",
              "      const a = document.createElement('a');\n",
              "      a.href = window.URL.createObjectURL(blob);\n",
              "      a.download = filename;\n",
              "      div.appendChild(a);\n",
              "      a.click();\n",
              "      div.remove();\n",
              "    }\n",
              "  "
            ]
          },
          "metadata": {}
        },
        {
          "output_type": "display_data",
          "data": {
            "text/plain": [
              "<IPython.core.display.Javascript object>"
            ],
            "application/javascript": [
              "download(\"download_c565c2ce-7aeb-4090-9bf4-09ef980eac38\", \"cnn_scraped.xlsx\", 21762)"
            ]
          },
          "metadata": {}
        },
        {
          "output_type": "stream",
          "name": "stdout",
          "text": [
            "✅ Data berhasil diekspor & siap di-download!\n"
          ]
        },
        {
          "output_type": "display_data",
          "data": {
            "text/plain": [
              "                                               title category published_date  \\\n",
              "0  Bintang Irak: Kami Sudah Tahu Kekuatan Timnas ...      N/A            N/A   \n",
              "1  Mendagri Tito Perintahkan Tunjangan Rumah DPRD...      N/A            N/A   \n",
              "2    VIDEO: Uji Coba GT Fatmawati 2 Mulai Senin Sore      N/A            N/A   \n",
              "3  Polda Metro Ungkap Bukti Perusakan Fasum: Molo...      N/A            N/A   \n",
              "4  FOTO: Ramai Simbol Dukungan untuk Palestina di...      N/A            N/A   \n",
              "\n",
              "  author                                        article_url  \\\n",
              "0    N/A  https://www.cnnindonesia.com/olahraga/20250915...   \n",
              "1    N/A  https://www.cnnindonesia.com/nasional/20250915...   \n",
              "2    N/A  https://www.cnnindonesia.com/tv/20250915195441...   \n",
              "3    N/A  https://www.cnnindonesia.com/nasional/20250915...   \n",
              "4    N/A  https://www.cnnindonesia.com/hiburan/202509151...   \n",
              "\n",
              "                                             content  source_page  \n",
              "0  Bintang timnas Irak, Amir Al Ammari, mengaku y...            1  \n",
              "1  Menteri dalam Negeri (Mendagri) Tito Karnavian...            1  \n",
              "2  Senin sore, uji coba rekayasa lalu lintas di r...            1  \n",
              "3  Kapolda Metro Jaya Irjen Pol.Asep EdiSuheri me...            1  \n",
              "4                                                               1  "
            ],
            "text/html": [
              "\n",
              "  <div id=\"df-515affe7-c75a-4ecf-9b21-3dfe86811fb6\" class=\"colab-df-container\">\n",
              "    <div>\n",
              "<style scoped>\n",
              "    .dataframe tbody tr th:only-of-type {\n",
              "        vertical-align: middle;\n",
              "    }\n",
              "\n",
              "    .dataframe tbody tr th {\n",
              "        vertical-align: top;\n",
              "    }\n",
              "\n",
              "    .dataframe thead th {\n",
              "        text-align: right;\n",
              "    }\n",
              "</style>\n",
              "<table border=\"1\" class=\"dataframe\">\n",
              "  <thead>\n",
              "    <tr style=\"text-align: right;\">\n",
              "      <th></th>\n",
              "      <th>title</th>\n",
              "      <th>category</th>\n",
              "      <th>published_date</th>\n",
              "      <th>author</th>\n",
              "      <th>article_url</th>\n",
              "      <th>content</th>\n",
              "      <th>source_page</th>\n",
              "    </tr>\n",
              "  </thead>\n",
              "  <tbody>\n",
              "    <tr>\n",
              "      <th>0</th>\n",
              "      <td>Bintang Irak: Kami Sudah Tahu Kekuatan Timnas ...</td>\n",
              "      <td>N/A</td>\n",
              "      <td>N/A</td>\n",
              "      <td>N/A</td>\n",
              "      <td>https://www.cnnindonesia.com/olahraga/20250915...</td>\n",
              "      <td>Bintang timnas Irak, Amir Al Ammari, mengaku y...</td>\n",
              "      <td>1</td>\n",
              "    </tr>\n",
              "    <tr>\n",
              "      <th>1</th>\n",
              "      <td>Mendagri Tito Perintahkan Tunjangan Rumah DPRD...</td>\n",
              "      <td>N/A</td>\n",
              "      <td>N/A</td>\n",
              "      <td>N/A</td>\n",
              "      <td>https://www.cnnindonesia.com/nasional/20250915...</td>\n",
              "      <td>Menteri dalam Negeri (Mendagri) Tito Karnavian...</td>\n",
              "      <td>1</td>\n",
              "    </tr>\n",
              "    <tr>\n",
              "      <th>2</th>\n",
              "      <td>VIDEO: Uji Coba GT Fatmawati 2 Mulai Senin Sore</td>\n",
              "      <td>N/A</td>\n",
              "      <td>N/A</td>\n",
              "      <td>N/A</td>\n",
              "      <td>https://www.cnnindonesia.com/tv/20250915195441...</td>\n",
              "      <td>Senin sore, uji coba rekayasa lalu lintas di r...</td>\n",
              "      <td>1</td>\n",
              "    </tr>\n",
              "    <tr>\n",
              "      <th>3</th>\n",
              "      <td>Polda Metro Ungkap Bukti Perusakan Fasum: Molo...</td>\n",
              "      <td>N/A</td>\n",
              "      <td>N/A</td>\n",
              "      <td>N/A</td>\n",
              "      <td>https://www.cnnindonesia.com/nasional/20250915...</td>\n",
              "      <td>Kapolda Metro Jaya Irjen Pol.Asep EdiSuheri me...</td>\n",
              "      <td>1</td>\n",
              "    </tr>\n",
              "    <tr>\n",
              "      <th>4</th>\n",
              "      <td>FOTO: Ramai Simbol Dukungan untuk Palestina di...</td>\n",
              "      <td>N/A</td>\n",
              "      <td>N/A</td>\n",
              "      <td>N/A</td>\n",
              "      <td>https://www.cnnindonesia.com/hiburan/202509151...</td>\n",
              "      <td></td>\n",
              "      <td>1</td>\n",
              "    </tr>\n",
              "  </tbody>\n",
              "</table>\n",
              "</div>\n",
              "    <div class=\"colab-df-buttons\">\n",
              "\n",
              "  <div class=\"colab-df-container\">\n",
              "    <button class=\"colab-df-convert\" onclick=\"convertToInteractive('df-515affe7-c75a-4ecf-9b21-3dfe86811fb6')\"\n",
              "            title=\"Convert this dataframe to an interactive table.\"\n",
              "            style=\"display:none;\">\n",
              "\n",
              "  <svg xmlns=\"http://www.w3.org/2000/svg\" height=\"24px\" viewBox=\"0 -960 960 960\">\n",
              "    <path d=\"M120-120v-720h720v720H120Zm60-500h600v-160H180v160Zm220 220h160v-160H400v160Zm0 220h160v-160H400v160ZM180-400h160v-160H180v160Zm440 0h160v-160H620v160ZM180-180h160v-160H180v160Zm440 0h160v-160H620v160Z\"/>\n",
              "  </svg>\n",
              "    </button>\n",
              "\n",
              "  <style>\n",
              "    .colab-df-container {\n",
              "      display:flex;\n",
              "      gap: 12px;\n",
              "    }\n",
              "\n",
              "    .colab-df-convert {\n",
              "      background-color: #E8F0FE;\n",
              "      border: none;\n",
              "      border-radius: 50%;\n",
              "      cursor: pointer;\n",
              "      display: none;\n",
              "      fill: #1967D2;\n",
              "      height: 32px;\n",
              "      padding: 0 0 0 0;\n",
              "      width: 32px;\n",
              "    }\n",
              "\n",
              "    .colab-df-convert:hover {\n",
              "      background-color: #E2EBFA;\n",
              "      box-shadow: 0px 1px 2px rgba(60, 64, 67, 0.3), 0px 1px 3px 1px rgba(60, 64, 67, 0.15);\n",
              "      fill: #174EA6;\n",
              "    }\n",
              "\n",
              "    .colab-df-buttons div {\n",
              "      margin-bottom: 4px;\n",
              "    }\n",
              "\n",
              "    [theme=dark] .colab-df-convert {\n",
              "      background-color: #3B4455;\n",
              "      fill: #D2E3FC;\n",
              "    }\n",
              "\n",
              "    [theme=dark] .colab-df-convert:hover {\n",
              "      background-color: #434B5C;\n",
              "      box-shadow: 0px 1px 3px 1px rgba(0, 0, 0, 0.15);\n",
              "      filter: drop-shadow(0px 1px 2px rgba(0, 0, 0, 0.3));\n",
              "      fill: #FFFFFF;\n",
              "    }\n",
              "  </style>\n",
              "\n",
              "    <script>\n",
              "      const buttonEl =\n",
              "        document.querySelector('#df-515affe7-c75a-4ecf-9b21-3dfe86811fb6 button.colab-df-convert');\n",
              "      buttonEl.style.display =\n",
              "        google.colab.kernel.accessAllowed ? 'block' : 'none';\n",
              "\n",
              "      async function convertToInteractive(key) {\n",
              "        const element = document.querySelector('#df-515affe7-c75a-4ecf-9b21-3dfe86811fb6');\n",
              "        const dataTable =\n",
              "          await google.colab.kernel.invokeFunction('convertToInteractive',\n",
              "                                                    [key], {});\n",
              "        if (!dataTable) return;\n",
              "\n",
              "        const docLinkHtml = 'Like what you see? Visit the ' +\n",
              "          '<a target=\"_blank\" href=https://colab.research.google.com/notebooks/data_table.ipynb>data table notebook</a>'\n",
              "          + ' to learn more about interactive tables.';\n",
              "        element.innerHTML = '';\n",
              "        dataTable['output_type'] = 'display_data';\n",
              "        await google.colab.output.renderOutput(dataTable, element);\n",
              "        const docLink = document.createElement('div');\n",
              "        docLink.innerHTML = docLinkHtml;\n",
              "        element.appendChild(docLink);\n",
              "      }\n",
              "    </script>\n",
              "  </div>\n",
              "\n",
              "\n",
              "    <div id=\"df-1d96c3b9-6735-44a6-b968-edfbd948aa4c\">\n",
              "      <button class=\"colab-df-quickchart\" onclick=\"quickchart('df-1d96c3b9-6735-44a6-b968-edfbd948aa4c')\"\n",
              "                title=\"Suggest charts\"\n",
              "                style=\"display:none;\">\n",
              "\n",
              "<svg xmlns=\"http://www.w3.org/2000/svg\" height=\"24px\"viewBox=\"0 0 24 24\"\n",
              "     width=\"24px\">\n",
              "    <g>\n",
              "        <path d=\"M19 3H5c-1.1 0-2 .9-2 2v14c0 1.1.9 2 2 2h14c1.1 0 2-.9 2-2V5c0-1.1-.9-2-2-2zM9 17H7v-7h2v7zm4 0h-2V7h2v10zm4 0h-2v-4h2v4z\"/>\n",
              "    </g>\n",
              "</svg>\n",
              "      </button>\n",
              "\n",
              "<style>\n",
              "  .colab-df-quickchart {\n",
              "      --bg-color: #E8F0FE;\n",
              "      --fill-color: #1967D2;\n",
              "      --hover-bg-color: #E2EBFA;\n",
              "      --hover-fill-color: #174EA6;\n",
              "      --disabled-fill-color: #AAA;\n",
              "      --disabled-bg-color: #DDD;\n",
              "  }\n",
              "\n",
              "  [theme=dark] .colab-df-quickchart {\n",
              "      --bg-color: #3B4455;\n",
              "      --fill-color: #D2E3FC;\n",
              "      --hover-bg-color: #434B5C;\n",
              "      --hover-fill-color: #FFFFFF;\n",
              "      --disabled-bg-color: #3B4455;\n",
              "      --disabled-fill-color: #666;\n",
              "  }\n",
              "\n",
              "  .colab-df-quickchart {\n",
              "    background-color: var(--bg-color);\n",
              "    border: none;\n",
              "    border-radius: 50%;\n",
              "    cursor: pointer;\n",
              "    display: none;\n",
              "    fill: var(--fill-color);\n",
              "    height: 32px;\n",
              "    padding: 0;\n",
              "    width: 32px;\n",
              "  }\n",
              "\n",
              "  .colab-df-quickchart:hover {\n",
              "    background-color: var(--hover-bg-color);\n",
              "    box-shadow: 0 1px 2px rgba(60, 64, 67, 0.3), 0 1px 3px 1px rgba(60, 64, 67, 0.15);\n",
              "    fill: var(--button-hover-fill-color);\n",
              "  }\n",
              "\n",
              "  .colab-df-quickchart-complete:disabled,\n",
              "  .colab-df-quickchart-complete:disabled:hover {\n",
              "    background-color: var(--disabled-bg-color);\n",
              "    fill: var(--disabled-fill-color);\n",
              "    box-shadow: none;\n",
              "  }\n",
              "\n",
              "  .colab-df-spinner {\n",
              "    border: 2px solid var(--fill-color);\n",
              "    border-color: transparent;\n",
              "    border-bottom-color: var(--fill-color);\n",
              "    animation:\n",
              "      spin 1s steps(1) infinite;\n",
              "  }\n",
              "\n",
              "  @keyframes spin {\n",
              "    0% {\n",
              "      border-color: transparent;\n",
              "      border-bottom-color: var(--fill-color);\n",
              "      border-left-color: var(--fill-color);\n",
              "    }\n",
              "    20% {\n",
              "      border-color: transparent;\n",
              "      border-left-color: var(--fill-color);\n",
              "      border-top-color: var(--fill-color);\n",
              "    }\n",
              "    30% {\n",
              "      border-color: transparent;\n",
              "      border-left-color: var(--fill-color);\n",
              "      border-top-color: var(--fill-color);\n",
              "      border-right-color: var(--fill-color);\n",
              "    }\n",
              "    40% {\n",
              "      border-color: transparent;\n",
              "      border-right-color: var(--fill-color);\n",
              "      border-top-color: var(--fill-color);\n",
              "    }\n",
              "    60% {\n",
              "      border-color: transparent;\n",
              "      border-right-color: var(--fill-color);\n",
              "    }\n",
              "    80% {\n",
              "      border-color: transparent;\n",
              "      border-right-color: var(--fill-color);\n",
              "      border-bottom-color: var(--fill-color);\n",
              "    }\n",
              "    90% {\n",
              "      border-color: transparent;\n",
              "      border-bottom-color: var(--fill-color);\n",
              "    }\n",
              "  }\n",
              "</style>\n",
              "\n",
              "      <script>\n",
              "        async function quickchart(key) {\n",
              "          const quickchartButtonEl =\n",
              "            document.querySelector('#' + key + ' button');\n",
              "          quickchartButtonEl.disabled = true;  // To prevent multiple clicks.\n",
              "          quickchartButtonEl.classList.add('colab-df-spinner');\n",
              "          try {\n",
              "            const charts = await google.colab.kernel.invokeFunction(\n",
              "                'suggestCharts', [key], {});\n",
              "          } catch (error) {\n",
              "            console.error('Error during call to suggestCharts:', error);\n",
              "          }\n",
              "          quickchartButtonEl.classList.remove('colab-df-spinner');\n",
              "          quickchartButtonEl.classList.add('colab-df-quickchart-complete');\n",
              "        }\n",
              "        (() => {\n",
              "          let quickchartButtonEl =\n",
              "            document.querySelector('#df-1d96c3b9-6735-44a6-b968-edfbd948aa4c button');\n",
              "          quickchartButtonEl.style.display =\n",
              "            google.colab.kernel.accessAllowed ? 'block' : 'none';\n",
              "        })();\n",
              "      </script>\n",
              "    </div>\n",
              "\n",
              "    </div>\n",
              "  </div>\n"
            ],
            "application/vnd.google.colaboratory.intrinsic+json": {
              "type": "dataframe",
              "summary": "{\n  \"name\": \"    print(\\\"\\u274c Tidak ada data yang berhasil di-scrape\",\n  \"rows\": 5,\n  \"fields\": [\n    {\n      \"column\": \"title\",\n      \"properties\": {\n        \"dtype\": \"string\",\n        \"num_unique_values\": 5,\n        \"samples\": [\n          \"Mendagri Tito Perintahkan Tunjangan Rumah DPRD Segera Dievaluasi\",\n          \"FOTO: Ramai Simbol Dukungan untuk Palestina di Emmy Awards 2025\",\n          \"VIDEO: Uji Coba GT Fatmawati 2 Mulai Senin Sore\"\n        ],\n        \"semantic_type\": \"\",\n        \"description\": \"\"\n      }\n    },\n    {\n      \"column\": \"category\",\n      \"properties\": {\n        \"dtype\": \"category\",\n        \"num_unique_values\": 1,\n        \"samples\": [\n          \"N/A\"\n        ],\n        \"semantic_type\": \"\",\n        \"description\": \"\"\n      }\n    },\n    {\n      \"column\": \"published_date\",\n      \"properties\": {\n        \"dtype\": \"category\",\n        \"num_unique_values\": 1,\n        \"samples\": [\n          \"N/A\"\n        ],\n        \"semantic_type\": \"\",\n        \"description\": \"\"\n      }\n    },\n    {\n      \"column\": \"author\",\n      \"properties\": {\n        \"dtype\": \"category\",\n        \"num_unique_values\": 1,\n        \"samples\": [\n          \"N/A\"\n        ],\n        \"semantic_type\": \"\",\n        \"description\": \"\"\n      }\n    },\n    {\n      \"column\": \"article_url\",\n      \"properties\": {\n        \"dtype\": \"string\",\n        \"num_unique_values\": 5,\n        \"samples\": [\n          \"https://www.cnnindonesia.com/nasional/20250915163828-32-1273942/mendagri-tito-perintahkan-tunjangan-rumah-dprd-segera-dievaluasi\"\n        ],\n        \"semantic_type\": \"\",\n        \"description\": \"\"\n      }\n    },\n    {\n      \"column\": \"content\",\n      \"properties\": {\n        \"dtype\": \"string\",\n        \"num_unique_values\": 5,\n        \"samples\": [\n          \"Menteri dalam Negeri (Mendagri) Tito Karnavian mengaku telah menginstruksikan agar tunjangan perumahan yang diterima anggotaDPRDdikaji ulang dan dievaluasi. Tito meminta DPRD dan pemerintah daerah mendengar suara masyarakat. Terlebih, sebelumnya DPR RI sudah terlebih dahulu menghentikan tunjangan tersebut. \\\"Saya sudah sampaikan kepada kepala daerah, terutama yang di Jawa, agar koordinasi dengan DPRD mendengar suara publik, dan saya minta untuk kalau itu memang perlu dilakukan evaluasi, lakukan evaluasi,\\\" kata dia usai menghadiri rapat di Komisi II DPR, Senin (15/9). ADVERTISEMENT SCROLL TO CONTINUE WITH CONTENT Tito mengaku telah memonitor informasi soal itu dan hasilnya tunjangan perumahan banyak diterima anggota DPRD di wilayah Jawa. Menurut dia, tunjangan perumahan sebagian besar merupakan kebijakan lama.  Dia karena itu meminta agar tunjangan tersebut tak sepenuhnya disalahkan ke kepala daerah yang baru terpilih di 2024. \\\"Tolong jangan salahkan kepala daerah baru. Kepala daerah baru enggak tahu. Sayaudahcek DKI, Jateng, Jawa Barat enggaktau, ini kebijakan lama saat itu,\\\" kata Tito. Ketentuan tunjangan perumahan, terang dia, tertuang lewat PP Nomor 18 tahun 2017. Di dalamnya menyebutkan, anggota DPRD yang belum mendapatkan rumah dinas, berhak menerima tunjangan sebagai pengganti yang angkanya bervariasi setiap daerah. Namun, pada praktiknya, ujar Tito, tunjangan perumahan diberikan sebagai alat kepentingan agar APBD pemerintah daerah tak diganggu. \\\"Nah kadang-kadang kan tarik-menarik di situ, ada daerah yang menaikkan, oke kita kasih tunjangan perumahan tapi APBD jangan diganggu ya, seperti itu,\\\" katanya. Setelah tunjangan perumahan Rp50 juta anggota DPR RI, belakangan tunjangan serupa di DPRD menuai sorotan. Angkanya bisa bervariasi mulai dari Rp-80 juta. Anggota DPRD Jawa Tengah misalnya menerima tunjangan perumahan mencapai Rp79 juta. Lalu di Jakarta, sebesar Rp70 juta, Jabar Rp71 juta, Jatim Rp49 juta, hingga Bali senilai Rp54 juta. Belakangan, mereka ramai-ramai bersepakat untuk melakukan evaluasi. Isu tunjangan perumahan sebelumnya telah memantik gelombang aksi besar-besaran pada 25-31 Agustus yang menewaskan 10 korban jiwa.    \"\n        ],\n        \"semantic_type\": \"\",\n        \"description\": \"\"\n      }\n    },\n    {\n      \"column\": \"source_page\",\n      \"properties\": {\n        \"dtype\": \"number\",\n        \"std\": 0,\n        \"min\": 1,\n        \"max\": 1,\n        \"num_unique_values\": 1,\n        \"samples\": [\n          1\n        ],\n        \"semantic_type\": \"\",\n        \"description\": \"\"\n      }\n    }\n  ]\n}"
            }
          },
          "metadata": {}
        }
      ]
    }
  ],
  "metadata": {
    "colab": {
      "provenance": [],
      "include_colab_link": true
    },
    "kernelspec": {
      "display_name": "Python 3",
      "name": "python3"
    }
  },
  "nbformat": 4,
  "nbformat_minor": 0
}